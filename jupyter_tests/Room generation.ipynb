{
 "cells": [
  {
   "cell_type": "code",
   "execution_count": 1,
   "id": "medium-george",
   "metadata": {},
   "outputs": [],
   "source": [
    "import numpy as np\n",
    "import matplotlib.pyplot as plt\n",
    "from matplotlib.patches import Circle, Wedge, Polygon\n",
    "from matplotlib.collections import PatchCollection\n",
    "rng = np.random.default_rng(12345)"
   ]
  },
  {
   "cell_type": "code",
   "execution_count": null,
   "id": "signed-portsmouth",
   "metadata": {},
   "outputs": [],
   "source": [
    "class Room(object):\n",
    "    def __init__(self, h, w, c):\n",
    "        self.update_hwc(h,w,c)\n",
    "    def update_hwc(self, h, w, c):\n",
    "        self.h = h\n",
    "        self.w = w\n",
    "        self.c = c\n",
    "        self.vertecies = c + np.array([[w, h],[-w,h],[-w,-h],[w,-h]])/2\n",
    "        \n",
    "    def update_vertex(self, vertex_list):\n",
    "        self.vertecies = vertex_list\n",
    "        \n",
    "        "
   ]
  },
  {
   "cell_type": "code",
   "execution_count": 2,
   "id": "mexican-leader",
   "metadata": {},
   "outputs": [],
   "source": [
    "def split_room(room, axis, corridor_w):\n",
    "    min_, max_ = np.min(room[:,axis]),np.max(room[:,axis])\n",
    "    split = rng.random()*(max_-min_)+min_\n",
    "    room1 = room.copy()\n",
    "    result = []\n",
    "    room1[room1[:,axis]==min_,axis] = split+corridor_w/2\n",
    "    room2 = room.copy()\n",
    "    room2[room2[:,axis]==max_,axis] = split-corridor_w/2\n",
    "    return [room1, room2]\n",
    "    "
   ]
  },
  {
   "cell_type": "code",
   "execution_count": 3,
   "id": "going-latino",
   "metadata": {},
   "outputs": [],
   "source": [
    "room_h = 15\n",
    "room_w = 12\n",
    "\n",
    "main_room = np.array([[room_w,room_h],[-room_w,room_h],[-room_w,-room_h],[room_w,-room_h]])/2\n",
    "\n",
    "axis = 1\n",
    "corridor_w = 1\n",
    "\n",
    "\n",
    "rooms = []\n",
    "new_rooms = []\n",
    "\n",
    "rooms.append(main_room)\n",
    "for room in rooms:\n",
    "    new_rooms+=split_room(room, axis, corridor_w)\n",
    "rooms = new_rooms\n",
    "\n",
    "new_rooms = []\n",
    "axis = 1 - axis\n",
    "for room in rooms:\n",
    "    new_rooms+=split_room(room, axis, corridor_w)\n",
    "rooms = new_rooms\n",
    "\n",
    "new_rooms = []\n",
    "axis = 1 - axis\n",
    "for room in rooms:\n",
    "    new_rooms+=split_room(room, axis, corridor_w)\n",
    "rooms = new_rooms"
   ]
  },
  {
   "cell_type": "code",
   "execution_count": 4,
   "id": "residential-percentage",
   "metadata": {},
   "outputs": [
    {
     "data": {
      "image/png": "[encoded data removed]",
      "text/plain": [
       "<Figure size 432x288 with 1 Axes>"
      ]
     },
     "metadata": {
      "needs_background": "light"
     },
     "output_type": "display_data"
    }
   ],
   "source": [
    "plot_rooms = [main_room]+rooms\n",
    "fig, ax = plt.subplots()\n",
    "for r in plot_rooms:\n",
    "    polygon = Polygon(r, fill=False)\n",
    "    ax.add_patch(polygon)\n",
    "plt.xlim([-10,10])\n",
    "plt.ylim([-10,10])\n",
    "ax.set_aspect('equal', 'box')\n",
    "plt.show()"
   ]
  },
  {
   "cell_type": "code",
   "execution_count": 6,
   "id": "racial-greene",
   "metadata": {},
   "outputs": [
    {
     "data": {
      "text/plain": [
       "array([[ 4.,  5.],\n",
       "       [-4.,  5.],\n",
       "       [-4., -5.],\n",
       "       [ 4., -5.],\n",
       "       [ 4.,  5.]])"
      ]
     },
     "execution_count": 6,
     "metadata": {},
     "output_type": "execute_result"
    }
   ],
   "source": [
    "polygon.get_xy()"
   ]
  },
  {
   "cell_type": "code",
   "execution_count": null,
   "id": "polyphonic-canyon",
   "metadata": {},
   "outputs": [],
   "source": []
  }
 ],
 "metadata": {
  "kernelspec": {
   "display_name": "Python 3",
   "language": "python",
   "name": "python3"
  },
  "language_info": {
   "codemirror_mode": {
    "name": "ipython",
    "version": 3
   },
   "file_extension": ".py",
   "mimetype": "text/x-python",
   "name": "python",
   "nbconvert_exporter": "python",
   "pygments_lexer": "ipython3",
   "version": "3.6.13"
  }
 },
 "nbformat": 4,
 "nbformat_minor": 5
}
