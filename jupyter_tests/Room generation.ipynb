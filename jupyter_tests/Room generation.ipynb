{
 "cells": [
  {
   "cell_type": "code",
   "execution_count": 1,
   "id": "medium-george",
   "metadata": {},
   "outputs": [
    {
     "name": "stdout",
     "output_type": "stream",
     "text": [
      "/home/mads/miniconda3/envs/NavRepEnv/bin/python\n"
     ]
    },
    {
     "name": "stderr",
     "output_type": "stream",
     "text": [
      "/home/mads/miniconda3/envs/NavRepEnv/lib/python3.6/site-packages/tensorflow/python/framework/dtypes.py:526: FutureWarning: Passing (type, 1) or '1type' as a synonym of type is deprecated; in a future version of numpy, it will be understood as (type, (1,)) / '(1,)type'.\n",
      "  _np_qint8 = np.dtype([(\"qint8\", np.int8, 1)])\n",
      "/home/mads/miniconda3/envs/NavRepEnv/lib/python3.6/site-packages/tensorflow/python/framework/dtypes.py:527: FutureWarning: Passing (type, 1) or '1type' as a synonym of type is deprecated; in a future version of numpy, it will be understood as (type, (1,)) / '(1,)type'.\n",
      "  _np_quint8 = np.dtype([(\"quint8\", np.uint8, 1)])\n",
      "/home/mads/miniconda3/envs/NavRepEnv/lib/python3.6/site-packages/tensorflow/python/framework/dtypes.py:528: FutureWarning: Passing (type, 1) or '1type' as a synonym of type is deprecated; in a future version of numpy, it will be understood as (type, (1,)) / '(1,)type'.\n",
      "  _np_qint16 = np.dtype([(\"qint16\", np.int16, 1)])\n",
      "/home/mads/miniconda3/envs/NavRepEnv/lib/python3.6/site-packages/tensorflow/python/framework/dtypes.py:529: FutureWarning: Passing (type, 1) or '1type' as a synonym of type is deprecated; in a future version of numpy, it will be understood as (type, (1,)) / '(1,)type'.\n",
      "  _np_quint16 = np.dtype([(\"quint16\", np.uint16, 1)])\n",
      "/home/mads/miniconda3/envs/NavRepEnv/lib/python3.6/site-packages/tensorflow/python/framework/dtypes.py:530: FutureWarning: Passing (type, 1) or '1type' as a synonym of type is deprecated; in a future version of numpy, it will be understood as (type, (1,)) / '(1,)type'.\n",
      "  _np_qint32 = np.dtype([(\"qint32\", np.int32, 1)])\n",
      "/home/mads/miniconda3/envs/NavRepEnv/lib/python3.6/site-packages/tensorflow/python/framework/dtypes.py:535: FutureWarning: Passing (type, 1) or '1type' as a synonym of type is deprecated; in a future version of numpy, it will be understood as (type, (1,)) / '(1,)type'.\n",
      "  np_resource = np.dtype([(\"resource\", np.ubyte, 1)])\n",
      "Using TensorFlow backend.\n"
     ]
    }
   ],
   "source": [
    "import sys\n",
    "print(sys.executable)\n",
    "import torch\n",
    "sys.path.append(\"../../\")\n",
    "import numpy as np\n",
    "import matplotlib.pyplot as plt\n",
    "from matplotlib.patches import Circle, Wedge, Polygon\n",
    "from matplotlib.collections import PatchCollection\n",
    "from navrep.envs.navreptrainenv import NavRepTrainEnv\n",
    "from navrep.envs.roomgen import Room, split_room\n",
    "rng = np.random.default_rng(12345)"
   ]
  },
  {
   "cell_type": "code",
   "execution_count": 2,
   "id": "clean-classics",
   "metadata": {},
   "outputs": [],
   "source": [
    "room_h = 15\n",
    "room_w = 12\n",
    "\n",
    "main_room = np.array([[room_w,room_h],[-room_w,room_h],[-room_w,-room_h],[room_w,-room_h]])/2\n",
    "r = Room.from_vert(main_room)"
   ]
  },
  {
   "cell_type": "code",
   "execution_count": 3,
   "id": "going-latino",
   "metadata": {},
   "outputs": [
    {
     "name": "stdout",
     "output_type": "stream",
     "text": [
      "collision\n",
      "collision\n",
      "collision\n",
      "collision\n",
      "collision\n",
      "collision\n",
      "collision\n",
      "collision\n",
      "collision\n",
      "collision\n",
      "collision\n",
      "collision\n",
      "collision\n",
      "collision\n",
      "collision\n",
      "collision\n",
      "collision\n",
      "collision\n",
      "collision\n",
      "collision\n",
      "collision\n",
      "collision\n",
      "collision\n",
      "collision\n",
      "collision\n",
      "collision\n",
      "collision\n",
      "collision\n",
      "collision\n",
      "collision\n",
      "collision\n",
      "collision\n"
     ]
    }
   ],
   "source": [
    "room_h = 50\n",
    "room_w = 50\n",
    "\n",
    "main_room = np.array([[room_w,room_h],[-room_w,room_h],[-room_w,-room_h],[room_w,-room_h]])/2\n",
    "main_room = Room.from_vert(main_room)\n",
    "\n",
    "axis = 1\n",
    "corridor_w = 1.5\n",
    "corridor_num = 6\n",
    "\n",
    "rooms = []\n",
    "\n",
    "rooms.append(main_room)\n",
    "split = main_room.split_room(axis, corridor_w)\n",
    "rooms=[r for r in split if r.get_area() > 1 and min(r.dim[0],r.dim[1]) > 1.5]\n",
    "\n",
    "\n",
    "# Creates corridors\n",
    "for i in range(corridor_num):\n",
    "    axis = 1 - axis\n",
    "    corridor_w *= 0.9\n",
    "    num = len(rooms)\n",
    "    for i in range(num):\n",
    "        room = rooms.pop(0)\n",
    "        split = room.split_room(axis, corridor_w)\n",
    "        split = [r for r in split if r.get_area() > 2 and min(r.dim[0],r.dim[1]) > 1.5]\n",
    "        rooms+= split if split else [room]\n",
    "    r_idx = np.argsort([r.get_area() for r in rooms])#np.arange(len(rooms))\n",
    "    rooms = [rooms[i] for i in r_idx]\n",
    "    \n",
    "# split big rooms\n",
    "big_rooms = [i for i,r in enumerate(rooms) if r.get_area() > 30 and r.corridor_sides]\n",
    "\n",
    "removed = []\n",
    "while big_rooms:\n",
    "    for i, br_idx in enumerate(big_rooms):\n",
    "        room = rooms.pop(br_idx-i)\n",
    "        axis = np.argmax(room.dim)\n",
    "        #print(room.get_corridor_sides())\n",
    "        if not any(axis == np.mod(room.get_corridor_sides(),2)):\n",
    "            #print(\"flip\")\n",
    "            axis = 1 - axis\n",
    "        for j in range(4):\n",
    "            split = room.split_room(axis, 0)\n",
    "            split_if = [r.get_area() > 2 and min(r.dim[0],r.dim[1]) > 1.5 for r in split]\n",
    "            if all(split_if):\n",
    "                rooms+= split\n",
    "                break\n",
    "            if j==3:\n",
    "                removed += [room]\n",
    "    big_rooms = [i for i,r in enumerate(rooms) if r.get_area() > 30 and r.corridor_sides]\n",
    "rooms += removed"
   ]
  },
  {
   "cell_type": "code",
   "execution_count": 4,
   "id": "residential-percentage",
   "metadata": {},
   "outputs": [
    {
     "data": {
      "image/png": "[encoded data removed]",
      "text/plain": [
       "<Figure size 720x720 with 1 Axes>"
      ]
     },
     "metadata": {
      "needs_background": "light"
     },
     "output_type": "display_data"
    }
   ],
   "source": [
    "plot_rooms = [main_room]+rooms\n",
    "fig, ax = plt.subplots(figsize=[10,10])\n",
    "for r in plot_rooms:\n",
    "    if r.door:\n",
    "        for p in r.get_polygons():\n",
    "            polygon = Polygon(np.array(p), fill=False)\n",
    "            ax.add_patch(polygon)\n",
    "            #ax.plot(r.door[0][0][:,0], r.door[0][0][:,1], '.')\n",
    "    else:\n",
    "        polygon = Polygon(r.get_vert(), fill=False)\n",
    "        ax.add_patch(polygon)\n",
    "    \n",
    "plt.xlim([-30,30])\n",
    "plt.ylim([-30,30])\n",
    "ax.set_aspect('equal', 'box')\n",
    "plt.show()"
   ]
  },
  {
   "cell_type": "code",
   "execution_count": 5,
   "id": "dominican-ability",
   "metadata": {},
   "outputs": [],
   "source": [
    "test_room = Room(6,4,[1,1])"
   ]
  },
  {
   "cell_type": "code",
   "execution_count": 6,
   "id": "continued-vanilla",
   "metadata": {},
   "outputs": [],
   "source": [
    "test_room.set_corridor_sides([1,2])\n",
    "test_room.add_door()\n",
    "test_room.add_door()\n",
    "test_room.add_door()"
   ]
  },
  {
   "cell_type": "code",
   "execution_count": 7,
   "id": "jewish-adjustment",
   "metadata": {},
   "outputs": [
    {
     "data": {
      "image/png": "[encoded data removed]",
      "text/plain": [
       "<Figure size 720x720 with 1 Axes>"
      ]
     },
     "metadata": {
      "needs_background": "light"
     },
     "output_type": "display_data"
    }
   ],
   "source": [
    "fig, ax = plt.subplots(figsize=[10,10])\n",
    "for p in test_room.get_polygons():\n",
    "    polygon = Polygon(p, fill=False)\n",
    "    ax.add_patch(polygon)\n",
    "plt.xlim([-10,10])\n",
    "plt.ylim([-13,13])\n",
    "ax.set_aspect('equal', 'box')\n",
    "plt.show()"
   ]
  }
 ],
 "metadata": {
  "kernelspec": {
   "display_name": "Python 3",
   "language": "python",
   "name": "python3"
  },
  "language_info": {
   "codemirror_mode": {
    "name": "ipython",
    "version": 3
   },
   "file_extension": ".py",
   "mimetype": "text/x-python",
   "name": "python",
   "nbconvert_exporter": "python",
   "pygments_lexer": "ipython3",
   "version": "3.6.13"
  }
 },
 "nbformat": 4,
 "nbformat_minor": 5
}
