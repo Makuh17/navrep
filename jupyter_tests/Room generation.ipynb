{
 "cells": [
  {
   "cell_type": "code",
   "execution_count": 1,
   "id": "medium-george",
   "metadata": {},
   "outputs": [],
   "source": [
    "import numpy as np\n",
    "import matplotlib.pyplot as plt\n",
    "from matplotlib.patches import Circle, Wedge, Polygon\n",
    "from matplotlib.collections import PatchCollection\n",
    "rng = np.random.default_rng(12345)"
   ]
  },
  {
   "cell_type": "code",
   "execution_count": 277,
   "id": "crude-language",
   "metadata": {},
   "outputs": [],
   "source": [
    "class Room(object):\n",
    "    def __init__(self, h, w, c):\n",
    "        self.update_hwc(h,w,c)\n",
    "        self.door = []\n",
    "        self.door_w = 0.9\n",
    "        self.wall_thickness = 0.1\n",
    "    def update_hwc(self, h, w, c):\n",
    "        self.dim = np.array([w,h])\n",
    "        self.c = c\n",
    "        \n",
    "    @classmethod\n",
    "    def from_vert(cls, vert):\n",
    "        min_x, max_x = np.min(vert[:,0]),np.max(vert[:,0])\n",
    "        min_y, max_y = np.min(vert[:,1]),np.max(vert[:,1])\n",
    "        h = max_y - min_y\n",
    "        w = max_x - min_x\n",
    "        c = np.array([max_x+min_x,max_y+min_y])/2\n",
    "        return cls(h,w,c)\n",
    "    \n",
    "    def get_vert(self):\n",
    "        return self.c + np.array([[self.dim[0], self.dim[1]],[-self.dim[0],self.dim[1]],[-self.dim[0],-self.dim[1]],[self.dim[0],-self.dim[1]]])/2\n",
    "    \n",
    "    def get_area(self):\n",
    "        return self.dim[0]*self.dim[1]\n",
    "    \n",
    "    def add_door(self, axis, side):\n",
    "        if axis == 1:\n",
    "            s = 0 if side > 0 else 2\n",
    "        else:\n",
    "            s = 3 if side > 0 else 1\n",
    "            \n",
    "        fact = 1 if side > 0 else -1\n",
    "        door_point = np.zeros([2,2])\n",
    "        door_point[:,axis] = self.c[axis] + fact*self.dim[axis]/2\n",
    "        p = rng.beta(1,1)*(self.dim[1-axis]-self.door_w-self.wall_thickness) - (self.dim[1-axis]-self.door_w-self.wall_thickness)/2\n",
    "        door_point[:,1-axis] = (self.c[1-axis] + p) + np.array([-self.door_w,self.door_w])/2\n",
    "        self.door.append((door_point,s))\n",
    "        \n",
    "        #      0\n",
    "        #   -------\n",
    "        #   |     |\n",
    "        # 1 |     | 3\n",
    "        #   |     |\n",
    "        #   -------\n",
    "        #      2\n",
    "        \n",
    "    def get_polygons(self):\n",
    "        door_add = np.array([[0,-1],[1,0],[0,1],[-1,0]])*self.wall_thickness\n",
    "        vert_add = np.array([[-1,-1],[1,-1],[1,1],[-1,1]])*self.wall_thickness\n",
    "        verts = self.get_vert()\n",
    "        verts_prime = verts+vert_add\n",
    "        door = self.door[0]\n",
    "        \n",
    "        door_points = door[0] if door[1] > 1 else np.flip(door[0],0)\n",
    "        \n",
    "        door_points_prime = door_points + door_add[door[1]]\n",
    "        verts = np.concatenate([verts[door[1]+1:],verts[:door[1]+1]])\n",
    "        verts_prime = np.concatenate([verts_prime[door[1]+1:],verts_prime[:door[1]+1]])\n",
    "        \n",
    "        verts = np.concatenate([door_points[1].reshape((1,-1)),verts,door_points[0].reshape((1,-1))])\n",
    "        verts_prime = np.concatenate([door_points_prime[1].reshape((1,-1)),verts_prime,door_points_prime[0].reshape((1,-1))])\n",
    "        verts_prime = np.flip(verts_prime,0)\n",
    "        \n",
    "        return np.concatenate([verts, verts_prime])\n",
    "        \n",
    "        \n",
    "        \n",
    "                "
   ]
  },
  {
   "cell_type": "code",
   "execution_count": 278,
   "id": "clean-classics",
   "metadata": {},
   "outputs": [],
   "source": [
    "room_h = 15\n",
    "room_w = 12\n",
    "\n",
    "main_room = np.array([[room_w,room_h],[-room_w,room_h],[-room_w,-room_h],[room_w,-room_h]])/2\n",
    "r = Room.from_vert(main_room)"
   ]
  },
  {
   "cell_type": "code",
   "execution_count": 279,
   "id": "mexican-leader",
   "metadata": {},
   "outputs": [],
   "source": [
    "def split_room(room, axis, corridor_w):\n",
    "    min_, max_ = np.min(room[:,axis]),np.max(room[:,axis])\n",
    "    split = rng.random()*(max_-min_)+min_\n",
    "    room1 = room.copy()\n",
    "    result = []\n",
    "    room1[room1[:,axis]==min_,axis] = split+corridor_w/2\n",
    "    room2 = room.copy()\n",
    "    room2[room2[:,axis]==max_,axis] = split-corridor_w/2\n",
    "    return [room1, room2]\n",
    "\n",
    "def split_room(room, axis, corridor_w):\n",
    "    min_, max_ = np.min(room.get_vert()[:,axis]),np.max(room.get_vert()[:,axis])\n",
    "    split = rng.random()*(max_-min_)+min_\n",
    "    split = rng.beta(1,1)*(max_-min_-corridor_w)+min_+corridor_w/2\n",
    "    #split = rng.normal(room.c[axis], 1.5)\n",
    "    room1 = room.get_vert().copy()\n",
    "    result = []\n",
    "    room1[room1[:,axis]==min_,axis] = split+corridor_w/2\n",
    "    room1 = Room.from_vert(room1)\n",
    "    room1.add_door(axis,0)\n",
    "    room2 = room.get_vert().copy()\n",
    "    room2[room2[:,axis]==max_,axis] = split-corridor_w/2\n",
    "    room2 = Room.from_vert(room2)\n",
    "    room2.add_door(axis,1)\n",
    "    return [room1, room2]"
   ]
  },
  {
   "cell_type": "code",
   "execution_count": 287,
   "id": "going-latino",
   "metadata": {},
   "outputs": [],
   "source": [
    "room_h = 25\n",
    "room_w = 15\n",
    "\n",
    "main_room = np.array([[room_w,room_h],[-room_w,room_h],[-room_w,-room_h],[room_w,-room_h]])/2\n",
    "main_room = Room.from_vert(main_room)\n",
    "\n",
    "axis = 1\n",
    "corridor_w = 1.5\n",
    "room_num = 6\n",
    "\n",
    "\n",
    "rooms = []\n",
    "\n",
    "rooms.append(main_room)\n",
    "split = split_room(main_room, axis, corridor_w)\n",
    "rooms=[r for r in split if r.get_area() > 1 and min(r.dim[0],r.dim[1]) > 1.5]\n",
    "\n",
    "\n",
    "for i in range(room_num):\n",
    "    if len(rooms) >= room_num:\n",
    "        break\n",
    "    axis = 1 - axis\n",
    "    corridor_w *= 0.9\n",
    "    num = len(rooms)\n",
    "    for i in range(num):\n",
    "        room = rooms.pop(0)\n",
    "        split = split_room(room, axis, corridor_w)\n",
    "        split = [r for r in split if r.get_area() > 2 and min(r.dim[0],r.dim[1]) > 1.5]\n",
    "        rooms+= split if split else [room]\n",
    "        if len(rooms) >= room_num:\n",
    "            break\n",
    "    r_idx = np.argsort([r.get_area() for r in rooms])#np.arange(len(rooms))\n",
    "    #rng.shuffle(r_idx)\n",
    "    rooms = [rooms[i] for i in r_idx]"
   ]
  },
  {
   "cell_type": "code",
   "execution_count": 288,
   "id": "residential-percentage",
   "metadata": {},
   "outputs": [
    {
     "data": {
      "image/png": "[encoded data removed]",
      "text/plain": [
       "<Figure size 720x720 with 1 Axes>"
      ]
     },
     "metadata": {
      "needs_background": "light"
     },
     "output_type": "display_data"
    }
   ],
   "source": [
    "plot_rooms = [main_room]+rooms\n",
    "fig, ax = plt.subplots(figsize=[10,10])\n",
    "for r in plot_rooms:\n",
    "    if r.door:\n",
    "        polygon = Polygon(np.array(r.get_polygons()), fill=False)\n",
    "        ax.plot(r.door[0][0][:,0], r.door[0][0][:,1], '.')\n",
    "    else:\n",
    "        polygon = Polygon(r.get_vert(), fill=False)\n",
    "    ax.add_patch(polygon)\n",
    "    \n",
    "plt.xlim([-10,10])\n",
    "plt.ylim([-13,13])\n",
    "ax.set_aspect('equal', 'box')\n",
    "plt.show()"
   ]
  },
  {
   "cell_type": "code",
   "execution_count": 259,
   "id": "racial-greene",
   "metadata": {},
   "outputs": [
    {
     "data": {
      "text/plain": [
       "array([[  1.73538984,  -3.27888239],\n",
       "       [ -7.5       , -12.5       ],\n",
       "       [  1.73538984, -12.5       ],\n",
       "       [  1.73538984,   8.8614378 ],\n",
       "       [ -7.5       ,   8.8614378 ],\n",
       "       [  1.73538984,  -2.37888239],\n",
       "       [  2.73538984,  -2.37888239],\n",
       "       [ -6.5       ,   7.8614378 ],\n",
       "       [  0.73538984,   7.8614378 ],\n",
       "       [  0.73538984, -11.5       ],\n",
       "       [ -6.5       , -11.5       ],\n",
       "       [  2.73538984,  -3.27888239],\n",
       "       [  1.73538984,  -3.27888239]])"
      ]
     },
     "execution_count": 259,
     "metadata": {},
     "output_type": "execute_result"
    }
   ],
   "source": [
    "polygon.get_xy()"
   ]
  },
  {
   "cell_type": "code",
   "execution_count": null,
   "id": "polyphonic-canyon",
   "metadata": {},
   "outputs": [],
   "source": [
    "min(1,2)"
   ]
  },
  {
   "cell_type": "code",
   "execution_count": 44,
   "id": "characteristic-charlotte",
   "metadata": {},
   "outputs": [],
   "source": [
    "k = 1 if [0] else 2"
   ]
  },
  {
   "cell_type": "code",
   "execution_count": 45,
   "id": "fourth-mistress",
   "metadata": {},
   "outputs": [
    {
     "data": {
      "text/plain": [
       "1"
      ]
     },
     "execution_count": 45,
     "metadata": {},
     "output_type": "execute_result"
    }
   ],
   "source": [
    "k"
   ]
  },
  {
   "cell_type": "code",
   "execution_count": 134,
   "id": "removable-rocket",
   "metadata": {},
   "outputs": [],
   "source": [
    "p = np.array([[1,2],[2,2]])"
   ]
  },
  {
   "cell_type": "code",
   "execution_count": 137,
   "id": "graphic-czech",
   "metadata": {},
   "outputs": [
    {
     "data": {
      "text/plain": [
       "array([1])"
      ]
     },
     "execution_count": 137,
     "metadata": {},
     "output_type": "execute_result"
    }
   ],
   "source": [
    "np.argwhere(np.equal(p[0],p[1])).flatten()"
   ]
  },
  {
   "cell_type": "code",
   "execution_count": 189,
   "id": "respected-patio",
   "metadata": {},
   "outputs": [],
   "source": [
    "l = np.array([[1,2],[3,4],[5,6]])"
   ]
  },
  {
   "cell_type": "code",
   "execution_count": 193,
   "id": "retained-certificate",
   "metadata": {},
   "outputs": [
    {
     "data": {
      "text/plain": [
       "array([[5, 6],\n",
       "       [3, 4],\n",
       "       [1, 2]])"
      ]
     },
     "execution_count": 193,
     "metadata": {},
     "output_type": "execute_result"
    }
   ],
   "source": [
    "np.flip(l,0)"
   ]
  },
  {
   "cell_type": "code",
   "execution_count": 152,
   "id": "infinite-thomas",
   "metadata": {},
   "outputs": [
    {
     "data": {
      "text/plain": [
       "[2, 3, 4, 1]"
      ]
     },
     "execution_count": 152,
     "metadata": {},
     "output_type": "execute_result"
    }
   ],
   "source": [
    "edge = 0\n",
    "l[edge+1:]+l[:edge+1]"
   ]
  },
  {
   "cell_type": "code",
   "execution_count": null,
   "id": "outstanding-halifax",
   "metadata": {},
   "outputs": [],
   "source": []
  }
 ],
 "metadata": {
  "kernelspec": {
   "display_name": "Python 3",
   "language": "python",
   "name": "python3"
  },
  "language_info": {
   "codemirror_mode": {
    "name": "ipython",
    "version": 3
   },
   "file_extension": ".py",
   "mimetype": "text/x-python",
   "name": "python",
   "nbconvert_exporter": "python",
   "pygments_lexer": "ipython3",
   "version": "3.6.13"
  }
 },
 "nbformat": 4,
 "nbformat_minor": 5
}
