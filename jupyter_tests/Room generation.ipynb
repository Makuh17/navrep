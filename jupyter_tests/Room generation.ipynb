{
 "cells": [
  {
   "cell_type": "code",
   "execution_count": 1,
   "id": "medium-george",
   "metadata": {},
   "outputs": [
    {
     "name": "stdout",
     "output_type": "stream",
     "text": [
      "/home/mads/miniconda3/envs/NavRepEnv/bin/python\n"
     ]
    },
    {
     "name": "stderr",
     "output_type": "stream",
     "text": [
      "/home/mads/miniconda3/envs/NavRepEnv/lib/python3.6/site-packages/tensorflow/python/framework/dtypes.py:526: FutureWarning: Passing (type, 1) or '1type' as a synonym of type is deprecated; in a future version of numpy, it will be understood as (type, (1,)) / '(1,)type'.\n",
      "  _np_qint8 = np.dtype([(\"qint8\", np.int8, 1)])\n",
      "/home/mads/miniconda3/envs/NavRepEnv/lib/python3.6/site-packages/tensorflow/python/framework/dtypes.py:527: FutureWarning: Passing (type, 1) or '1type' as a synonym of type is deprecated; in a future version of numpy, it will be understood as (type, (1,)) / '(1,)type'.\n",
      "  _np_quint8 = np.dtype([(\"quint8\", np.uint8, 1)])\n",
      "/home/mads/miniconda3/envs/NavRepEnv/lib/python3.6/site-packages/tensorflow/python/framework/dtypes.py:528: FutureWarning: Passing (type, 1) or '1type' as a synonym of type is deprecated; in a future version of numpy, it will be understood as (type, (1,)) / '(1,)type'.\n",
      "  _np_qint16 = np.dtype([(\"qint16\", np.int16, 1)])\n",
      "/home/mads/miniconda3/envs/NavRepEnv/lib/python3.6/site-packages/tensorflow/python/framework/dtypes.py:529: FutureWarning: Passing (type, 1) or '1type' as a synonym of type is deprecated; in a future version of numpy, it will be understood as (type, (1,)) / '(1,)type'.\n",
      "  _np_quint16 = np.dtype([(\"quint16\", np.uint16, 1)])\n",
      "/home/mads/miniconda3/envs/NavRepEnv/lib/python3.6/site-packages/tensorflow/python/framework/dtypes.py:530: FutureWarning: Passing (type, 1) or '1type' as a synonym of type is deprecated; in a future version of numpy, it will be understood as (type, (1,)) / '(1,)type'.\n",
      "  _np_qint32 = np.dtype([(\"qint32\", np.int32, 1)])\n",
      "/home/mads/miniconda3/envs/NavRepEnv/lib/python3.6/site-packages/tensorflow/python/framework/dtypes.py:535: FutureWarning: Passing (type, 1) or '1type' as a synonym of type is deprecated; in a future version of numpy, it will be understood as (type, (1,)) / '(1,)type'.\n",
      "  np_resource = np.dtype([(\"resource\", np.ubyte, 1)])\n",
      "Using TensorFlow backend.\n"
     ]
    },
    {
     "name": "stdout",
     "output_type": "stream",
     "text": [
      "Ros was not found, disabled.\n"
     ]
    }
   ],
   "source": [
    "import sys\n",
    "print(sys.executable)\n",
    "import torch\n",
    "sys.path.append(\"../../\")\n",
    "import numpy as np\n",
    "import matplotlib.pyplot as plt\n",
    "from matplotlib.patches import Circle, Wedge, Polygon\n",
    "from matplotlib.collections import PatchCollection\n",
    "from navrep.envs.navreptrainenv import NavRepTrainEnv\n",
    "from navrep.envs.roomgen import Room, split_room\n",
    "from navrep.envs.navreptrainenv import NavRepTrainEnv\n",
    "from navrep.envs.ianenv import IANEnv\n",
    "rng = np.random.default_rng(12345)"
   ]
  },
  {
   "cell_type": "code",
   "execution_count": 2,
   "id": "clean-classics",
   "metadata": {},
   "outputs": [],
   "source": [
    "room_h = 15\n",
    "room_w = 12\n",
    "\n",
    "main_room = np.array([[room_w,room_h],[-room_w,room_h],[-room_w,-room_h],[room_w,-room_h]])/2\n",
    "r = Room.from_vert(main_room)"
   ]
  },
  {
   "cell_type": "code",
   "execution_count": 3,
   "id": "going-latino",
   "metadata": {},
   "outputs": [
    {
     "name": "stdout",
     "output_type": "stream",
     "text": [
      "collision\n",
      "collision\n",
      "collision\n",
      "collision\n",
      "collision\n",
      "collision\n",
      "collision\n"
     ]
    }
   ],
   "source": [
    "room_h = 16\n",
    "room_w = 12\n",
    "\n",
    "main_room = np.array([[room_w,room_h],[-room_w,room_h],[-room_w,-room_h],[room_w,-room_h]])/2\n",
    "main_room = Room.from_vert(main_room)\n",
    "\n",
    "axis = 1\n",
    "corridor_w = 1.2\n",
    "corridor_num = 2\n",
    "\n",
    "rooms = []\n",
    "\n",
    "rooms.append(main_room)\n",
    "split = main_room.split_room(axis, corridor_w)\n",
    "rooms=[r for r in split if r.get_area() > 1 and min(r.dim[0],r.dim[1]) > 1.5]\n",
    "\n",
    "\n",
    "# Creates corridors\n",
    "for i in range(corridor_num):\n",
    "    #axis = 1 - axis\n",
    "    corridor_w *= 0.9\n",
    "    num = len(rooms)\n",
    "    for i in range(num):\n",
    "        room = rooms.pop(0)\n",
    "        axis = np.argmax(room.dim)\n",
    "        split = room.split_room(axis, corridor_w)\n",
    "        split = [r for r in split if r.get_area() > 2 and min(r.dim[0],r.dim[1]) > 1.5]\n",
    "        rooms+= split if split else [room]\n",
    "    r_idx = np.argsort([r.get_area() for r in rooms])#np.arange(len(rooms))\n",
    "    rooms = [rooms[i] for i in r_idx]\n",
    "    \n",
    "# split big rooms\n",
    "big_rooms = [i for i,r in enumerate(rooms) if r.get_area() > 30 and r.corridor_sides]\n",
    "\n",
    "removed = []\n",
    "while big_rooms:\n",
    "    for i, br_idx in enumerate(big_rooms):\n",
    "        room = rooms.pop(br_idx-i)\n",
    "        axis = np.argmax(room.dim)\n",
    "        #print(room.get_corridor_sides())\n",
    "        if not any(axis == np.mod(room.get_corridor_sides(),2)):\n",
    "            #print(\"flip\")\n",
    "            axis = 1 - axis\n",
    "        for j in range(4):\n",
    "            split = room.split_room(axis, 0)\n",
    "            split_if = [r.get_area() > 2 and min(r.dim[0],r.dim[1]) > 1.5 for r in split]\n",
    "            if all(split_if):\n",
    "                rooms+= split\n",
    "                break\n",
    "            if j==3:\n",
    "                removed += [room]\n",
    "    big_rooms = [i for i,r in enumerate(rooms) if r.get_area() > 30 and r.corridor_sides]\n",
    "rooms += removed"
   ]
  },
  {
   "cell_type": "code",
   "execution_count": 4,
   "id": "standing-wallet",
   "metadata": {},
   "outputs": [
    {
     "name": "stdout",
     "output_type": "stream",
     "text": [
      "[[(array([-3.20077123,  7.42095098]), array([-3.20077123,  8.        ]))], [(array([-3.20077123,  7.42095098]), array([-3.20077123,  8.        ])), (array([-3.20077123,  8.        ]), array([-6.,  8.])), (array([-6.,  8.]), array([-6.        ,  6.11635248])), (array([-6.        ,  6.11635248]), array([-3.20077123,  6.11635248])), (array([-3.20077123,  6.11635248]), array([-3.20077123,  6.52095098]))], [(array([-5.47640623,  5.14435248]), array([-6.        ,  5.14435248]))], [(array([-5.47640623,  5.14435248]), array([-6.        ,  5.14435248])), (array([-6.        ,  5.14435248]), array([-6.        ,  2.94664638])), (array([-6.        ,  2.94664638]), array([-3.20077123,  2.94664638])), (array([-3.20077123,  2.94664638]), array([-3.20077123,  5.14435248])), (array([-3.20077123,  5.14435248]), array([-4.57640623,  5.14435248]))], [(array([-3.33206132,  1.11157931]), array([-3.33206132,  1.74664638]))], [(array([-3.33206132,  1.11157931]), array([-3.33206132,  1.74664638])), (array([-3.33206132,  1.74664638]), array([-6.        ,  1.74664638])), (array([-6.        ,  1.74664638]), array([-6.        , -0.84769319])), (array([-6.        , -0.84769319]), array([-3.33206132, -0.84769319])), (array([-3.33206132, -0.84769319]), array([-3.33206132,  0.21157931]))], [(array([-5.06348078, -1.81969319]), array([-6.        , -1.81969319]))], [(array([-5.06348078, -1.81969319]), array([-6.        , -1.81969319])), (array([-6.        , -1.81969319]), array([-6., -8.])), (array([-6., -8.]), array([-3.33206132, -8.        ])), (array([-3.33206132, -8.        ]), array([-3.33206132, -1.81969319])), (array([-3.33206132, -1.81969319]), array([-4.16348078, -1.81969319]))], [(array([2.52821138, 5.17779257]), array([2.52821138, 2.94664638]))], [(array([2.52821138, 5.17779257]), array([2.52821138, 2.94664638])), (array([2.52821138, 2.94664638]), array([6.        , 2.94664638])), (array([6.        , 2.94664638]), array([6., 8.])), (array([6., 8.]), array([2.52821138, 8.        ])), (array([2.52821138, 8.        ]), array([2.52821138, 6.07779257]))], [(array([-2.12077123,  3.7116482 ]), array([-2.12077123,  2.94664638])), (array([-2.12077123,  6.79454178]), array([-2.12077123,  4.6116482 ]))], [(array([-2.12077123,  3.7116482 ]), array([-2.12077123,  2.94664638])), (array([-2.12077123,  2.94664638]), array([1.55621138, 2.94664638])), (array([1.55621138, 2.94664638]), array([1.55621138, 8.        ])), (array([1.55621138, 8.        ]), array([-2.12077123,  8.        ])), (array([-2.12077123,  8.        ]), array([-2.12077123,  7.69454178])), (array([-2.12077123,  6.79454178]), array([-2.12077123,  4.6116482 ]))], [(array([ 2.09524447, -1.42987558]), array([ 6.        , -1.42987558]))], [(array([ 2.09524447, -1.42987558]), array([ 6.        , -1.42987558])), (array([ 6.        , -1.42987558]), array([6.        , 1.74664638])), (array([6.        , 1.74664638]), array([-2.25206132,  1.74664638])), (array([-2.25206132,  1.74664638]), array([-2.25206132, -1.42987558])), (array([-2.25206132, -1.42987558]), array([ 1.19524447, -1.42987558]))], [(array([ 4.6012353 , -2.40187558]), array([ 4.27919196, -2.40187558]))], [(array([ 4.6012353 , -2.40187558]), array([ 4.27919196, -2.40187558])), (array([ 4.27919196, -2.40187558]), array([ 4.27919196, -8.        ])), (array([ 4.27919196, -8.        ]), array([ 6., -8.])), (array([ 6., -8.]), array([ 6.        , -2.40187558])), (array([ 6.        , -2.40187558]), array([ 5.5012353 , -2.40187558]))], [(array([ 2.51265364, -2.40187558]), array([ 2.10188797, -2.40187558]))], [(array([ 2.51265364, -2.40187558]), array([ 2.10188797, -2.40187558])), (array([ 2.10188797, -2.40187558]), array([ 2.10188797, -8.        ])), (array([ 2.10188797, -8.        ]), array([ 4.27919196, -8.        ])), (array([ 4.27919196, -8.        ]), array([ 4.27919196, -2.40187558])), (array([ 4.27919196, -2.40187558]), array([ 3.41265364, -2.40187558]))], [(array([-0.85737134, -2.40187558]), array([-2.25206132, -2.40187558]))], [(array([-0.85737134, -2.40187558]), array([-2.25206132, -2.40187558])), (array([-2.25206132, -2.40187558]), array([-2.25206132, -8.        ])), (array([-2.25206132, -8.        ]), array([ 2.10188797, -8.        ])), (array([ 2.10188797, -8.        ]), array([ 2.10188797, -2.40187558])), (array([ 2.10188797, -2.40187558]), array([ 0.04262866, -2.40187558]))]]\n"
     ]
    }
   ],
   "source": [
    "test = []\n",
    "for room in rooms:\n",
    "    for polygon in room.get_polygons():\n",
    "        test.append([(point[0],point[1]) for point in polygon])\n",
    "print(test)"
   ]
  },
  {
   "cell_type": "code",
   "execution_count": 5,
   "id": "residential-percentage",
   "metadata": {},
   "outputs": [
    {
     "data": {
      "image/png": "[encoded data removed]",
      "text/plain": [
       "<Figure size 1080x1080 with 1 Axes>"
      ]
     },
     "metadata": {
      "needs_background": "light"
     },
     "output_type": "display_data"
    }
   ],
   "source": [
    "plot_rooms = [main_room]+rooms\n",
    "fig, ax = plt.subplots(figsize=[15,15])\n",
    "for r in plot_rooms:\n",
    "    if r.door:\n",
    "        poly, rect = r.get_polygons()\n",
    "        for p in poly:\n",
    "            polygon = Polygon(np.array(p), fill=False)\n",
    "            ax.add_patch(polygon)\n",
    "            #ax.plot(r.door[0][0][:,0], r.door[0][0][:,1], '.')\n",
    "        #for p in rect:\n",
    "         #   centre = np.mean(p, axis= 0)\n",
    "          #  polygon = Polygon(np.array(p), fill=False)\n",
    "           # ax.add_patch(polygon)\n",
    "            #ax.plot(centre[0], centre[1], '.')\n",
    "    else:\n",
    "        polygon = Polygon(r.get_vert(), fill=False)\n",
    "        ax.add_patch(polygon)\n",
    "    \n",
    "plt.xlim([-(room_w+1)/2,(room_w+1)/2])\n",
    "plt.ylim([-(room_h+1)/2,(room_h+1)/2])\n",
    "ax.set_aspect('equal', 'box')\n",
    "plt.show()"
   ]
  },
  {
   "cell_type": "code",
   "execution_count": 6,
   "id": "dominican-ability",
   "metadata": {},
   "outputs": [],
   "source": [
    "test_room = Room(6,4,[1,1])"
   ]
  },
  {
   "cell_type": "code",
   "execution_count": 7,
   "id": "continued-vanilla",
   "metadata": {},
   "outputs": [
    {
     "name": "stdout",
     "output_type": "stream",
     "text": [
      "collision\n"
     ]
    }
   ],
   "source": [
    "test_room.set_corridor_sides([1,2])\n",
    "test_room.add_door()\n",
    "test_room.add_door()\n",
    "test_room.add_door()"
   ]
  },
  {
   "cell_type": "code",
   "execution_count": 8,
   "id": "jewish-adjustment",
   "metadata": {},
   "outputs": [
    {
     "name": "stdout",
     "output_type": "stream",
     "text": [
      "[0.88945881 0.2       ]\n",
      "[0.2 6. ]\n",
      "[4.  0.2]\n",
      "[0.2        0.93817227]\n",
      "[0.2        4.16182773]\n",
      "[2.21054119 0.2       ]\n"
     ]
    },
    {
     "data": {
      "image/png": "[encoded data removed]",
      "text/plain": [
       "<Figure size 720x720 with 1 Axes>"
      ]
     },
     "metadata": {
      "needs_background": "light"
     },
     "output_type": "display_data"
    }
   ],
   "source": [
    "fig, ax = plt.subplots(figsize=[10,10])\n",
    "poly, rect = test_room.get_polygons()\n",
    "#for p in poly:\n",
    "    #polygon = Polygon(p, fill=False)\n",
    "    #ax.add_patch(polygon)\n",
    "for r in rect:\n",
    "    centre = np.mean(r, axis= 0)\n",
    "    dim = np.max(r, axis=0)-np.min(r,axis=0)\n",
    "    print(dim)\n",
    "    polygon = Polygon(r, fill=False)\n",
    "    ax.add_patch(polygon)\n",
    "    ax.plot(centre[0], centre[1], '.')\n",
    "    \n",
    "plt.xlim([-10,10])\n",
    "plt.ylim([-13,13])\n",
    "ax.set_aspect('equal', 'box')\n",
    "plt.show()"
   ]
  },
  {
   "cell_type": "code",
   "execution_count": 9,
   "id": "homeless-phone",
   "metadata": {},
   "outputs": [
    {
     "name": "stdout",
     "output_type": "stream",
     "text": [
      "[[(-1.1098221099286927, -1.5098221099286928), (-2.6901778900713076, -1.5098221099286928), (-2.6901778900713076, -3.090177890071308), (-1.1098221099286927, -3.090177890071308)], [(3.9126656815125958, 6.512665681512596), (2.887334318487405, 6.512665681512596), (2.887334318487405, 5.487334318487404), (3.9126656815125958, 5.487334318487404)], [(-4.724872921038567, 1.7751270789614337), (-6.675127078961434, 1.7751270789614337), (-6.675127078961434, -0.17512707896143354), (-4.724872921038567, -0.17512707896143354)], [(-5.513716646838131, -5.813716646838131), (-6.68628335316187, -5.813716646838131), (-6.68628335316187, -6.98628335316187), (-5.513716646838131, -6.98628335316187)], [(2.2192487092138746, -3.580751290786125), (0.7807512907861256, -3.580751290786125), (0.7807512907861256, -5.0192487092138744), (2.2192487092138746, -5.0192487092138744)], [(3.903296542356244, 1.003296542356244), (3.096703457643756, 1.003296542356244), (3.096703457643756, 0.19670345764375613), (3.903296542356244, 0.19670345764375613)], [(-1.074527983810422, 0.6254720161895779), (-1.925472016189578, 0.6254720161895779), (-1.925472016189578, -0.2254720161895779), (-1.074527983810422, -0.2254720161895779)], [(1.3366350611609017, 3.1366350611609017), (0.06336493883909844, 3.1366350611609017), (0.06336493883909844, 1.8633649388390983), (1.3366350611609017, 1.8633649388390983)], [(-6.438337980253805, 2.8616620197461953), (-7.561662019746195, 2.8616620197461953), (-7.561662019746195, 1.7383379802538053), (-6.438337980253805, 1.7383379802538053)], [(4.6, -0.4), (1.6, -0.4), (1.6, -1.4), (4.6, -1.4)], [(-3.5, -3.1), (-6.5, -3.1), (-6.5, -4.1), (-3.5, -4.1)], [(1.6, -5.4), (-0.3999999999999999, -5.4), (-0.3999999999999999, -6.4), (1.6, -6.4)], [(-0.20000000000000018, -4.6000000000000005), (-3.2, -4.6000000000000005), (-3.2, -5.6000000000000005), (-0.20000000000000018, -5.6000000000000005)], [(3.4000000000000004, 4.7), (2.4000000000000004, 4.7), (2.4000000000000004, 1.7000000000000002), (3.4000000000000004, 1.7000000000000002)], [(-6.300000000000001, 6.300000000000001), (-7.300000000000001, 6.300000000000001), (-7.300000000000001, 4.300000000000001), (-6.300000000000001, 4.300000000000001)], [(1.6, -0.8000000000000003), (0.6000000000000001, -0.8000000000000003), (0.6000000000000001, -3.8000000000000003), (1.6, -3.8000000000000003)], [(-6.5, 6.5), (-7.5, 6.5), (-7.5, 4.5), (-6.5, 4.5)], [(-0.7000000000000002, 5.9), (-2.7, 5.9), (-2.7, 4.9), (-0.7000000000000002, 4.9)]]\n",
      "contours:  [[(-1.1098221099286927, -1.5098221099286928), (-2.6901778900713076, -1.5098221099286928), (-2.6901778900713076, -3.090177890071308), (-1.1098221099286927, -3.090177890071308)], [(3.9126656815125958, 6.512665681512596), (2.887334318487405, 6.512665681512596), (2.887334318487405, 5.487334318487404), (3.9126656815125958, 5.487334318487404)], [(-4.724872921038567, 1.7751270789614337), (-6.675127078961434, 1.7751270789614337), (-6.675127078961434, -0.17512707896143354), (-4.724872921038567, -0.17512707896143354)], [(-5.513716646838131, -5.813716646838131), (-6.68628335316187, -5.813716646838131), (-6.68628335316187, -6.98628335316187), (-5.513716646838131, -6.98628335316187)], [(2.2192487092138746, -3.580751290786125), (0.7807512907861256, -3.580751290786125), (0.7807512907861256, -5.0192487092138744), (2.2192487092138746, -5.0192487092138744)], [(3.903296542356244, 1.003296542356244), (3.096703457643756, 1.003296542356244), (3.096703457643756, 0.19670345764375613), (3.903296542356244, 0.19670345764375613)], [(-1.074527983810422, 0.6254720161895779), (-1.925472016189578, 0.6254720161895779), (-1.925472016189578, -0.2254720161895779), (-1.074527983810422, -0.2254720161895779)], [(1.3366350611609017, 3.1366350611609017), (0.06336493883909844, 3.1366350611609017), (0.06336493883909844, 1.8633649388390983), (1.3366350611609017, 1.8633649388390983)], [(-6.438337980253805, 2.8616620197461953), (-7.561662019746195, 2.8616620197461953), (-7.561662019746195, 1.7383379802538053), (-6.438337980253805, 1.7383379802538053)], [(4.6, -0.4), (1.6, -0.4), (1.6, -1.4), (4.6, -1.4)], [(-3.5, -3.1), (-6.5, -3.1), (-6.5, -4.1), (-3.5, -4.1)], [(1.6, -5.4), (-0.3999999999999999, -5.4), (-0.3999999999999999, -6.4), (1.6, -6.4)], [(-0.20000000000000018, -4.6000000000000005), (-3.2, -4.6000000000000005), (-3.2, -5.6000000000000005), (-0.20000000000000018, -5.6000000000000005)], [(3.4000000000000004, 4.7), (2.4000000000000004, 4.7), (2.4000000000000004, 1.7000000000000002), (3.4000000000000004, 1.7000000000000002)], [(-6.300000000000001, 6.300000000000001), (-7.300000000000001, 6.300000000000001), (-7.300000000000001, 4.300000000000001), (-6.300000000000001, 4.300000000000001)], [(1.6, -0.8000000000000003), (0.6000000000000001, -0.8000000000000003), (0.6000000000000001, -3.8000000000000003), (1.6, -3.8000000000000003)], [(-6.5, 6.5), (-7.5, 6.5), (-7.5, 4.5), (-6.5, 4.5)], [(-0.7000000000000002, 5.9), (-2.7, 5.9), (-2.7, 4.9), (-0.7000000000000002, 4.9)], [(-8.561662019746194, 10.0), (5.6, 10.0), (5.6, -10.0), (-8.561662019746194, -10.0)]]\n",
      "flat contours:  [[  0.          -1.1098222   -1.5098221 ]\n",
      " [  0.          -2.690178    -1.5098221 ]\n",
      " [  0.          -2.690178    -3.0901778 ]\n",
      " [  0.          -1.1098222   -3.0901778 ]\n",
      " [  0.          -1.1098222   -1.5098221 ]\n",
      " [  1.           3.9126656    6.5126657 ]\n",
      " [  1.           2.8873343    6.5126657 ]\n",
      " [  1.           2.8873343    5.4873343 ]\n",
      " [  1.           3.9126656    5.4873343 ]\n",
      " [  1.           3.9126656    6.5126657 ]\n",
      " [  2.          -4.724873     1.775127  ]\n",
      " [  2.          -6.675127     1.775127  ]\n",
      " [  2.          -6.675127    -0.17512707]\n",
      " [  2.          -4.724873    -0.17512707]\n",
      " [  2.          -4.724873     1.775127  ]\n",
      " [  3.          -5.5137167   -5.8137164 ]\n",
      " [  3.          -6.6862836   -5.8137164 ]\n",
      " [  3.          -6.6862836   -6.9862833 ]\n",
      " [  3.          -5.5137167   -6.9862833 ]\n",
      " [  3.          -5.5137167   -5.8137164 ]\n",
      " [  4.           2.2192488   -3.5807512 ]\n",
      " [  4.           0.7807513   -3.5807512 ]\n",
      " [  4.           0.7807513   -5.0192485 ]\n",
      " [  4.           2.2192488   -5.0192485 ]\n",
      " [  4.           2.2192488   -3.5807512 ]\n",
      " [  5.           3.9032965    1.0032965 ]\n",
      " [  5.           3.0967035    1.0032965 ]\n",
      " [  5.           3.0967035    0.19670346]\n",
      " [  5.           3.9032965    0.19670346]\n",
      " [  5.           3.9032965    1.0032965 ]\n",
      " [  6.          -1.074528     0.625472  ]\n",
      " [  6.          -1.925472     0.625472  ]\n",
      " [  6.          -1.925472    -0.22547202]\n",
      " [  6.          -1.074528    -0.22547202]\n",
      " [  6.          -1.074528     0.625472  ]\n",
      " [  7.           1.3366351    3.136635  ]\n",
      " [  7.           0.06336494   3.136635  ]\n",
      " [  7.           0.06336494   1.8633649 ]\n",
      " [  7.           1.3366351    1.8633649 ]\n",
      " [  7.           1.3366351    3.136635  ]\n",
      " [  8.          -6.438338     2.861662  ]\n",
      " [  8.          -7.561662     2.861662  ]\n",
      " [  8.          -7.561662     1.738338  ]\n",
      " [  8.          -6.438338     1.738338  ]\n",
      " [  8.          -6.438338     2.861662  ]\n",
      " [  9.           4.6         -0.4       ]\n",
      " [  9.           1.6         -0.4       ]\n",
      " [  9.           1.6         -1.4       ]\n",
      " [  9.           4.6         -1.4       ]\n",
      " [  9.           4.6         -0.4       ]\n",
      " [ 10.          -3.5         -3.1       ]\n",
      " [ 10.          -6.5         -3.1       ]\n",
      " [ 10.          -6.5         -4.1       ]\n",
      " [ 10.          -3.5         -4.1       ]\n",
      " [ 10.          -3.5         -3.1       ]\n",
      " [ 11.           1.6         -5.4       ]\n",
      " [ 11.          -0.4         -5.4       ]\n",
      " [ 11.          -0.4         -6.4       ]\n",
      " [ 11.           1.6         -6.4       ]\n",
      " [ 11.           1.6         -5.4       ]\n",
      " [ 12.          -0.2         -4.6       ]\n",
      " [ 12.          -3.2         -4.6       ]\n",
      " [ 12.          -3.2         -5.6       ]\n",
      " [ 12.          -0.2         -5.6       ]\n",
      " [ 12.          -0.2         -4.6       ]\n",
      " [ 13.           3.4          4.7       ]\n",
      " [ 13.           2.4          4.7       ]\n",
      " [ 13.           2.4          1.7       ]\n",
      " [ 13.           3.4          1.7       ]\n",
      " [ 13.           3.4          4.7       ]\n",
      " [ 14.          -6.3          6.3       ]\n",
      " [ 14.          -7.3          6.3       ]\n",
      " [ 14.          -7.3          4.3       ]\n",
      " [ 14.          -6.3          4.3       ]\n",
      " [ 14.          -6.3          6.3       ]\n",
      " [ 15.           1.6         -0.8       ]\n",
      " [ 15.           0.6         -0.8       ]\n",
      " [ 15.           0.6         -3.8       ]\n",
      " [ 15.           1.6         -3.8       ]\n",
      " [ 15.           1.6         -0.8       ]\n",
      " [ 16.          -6.5          6.5       ]\n",
      " [ 16.          -7.5          6.5       ]\n",
      " [ 16.          -7.5          4.5       ]\n",
      " [ 16.          -6.5          4.5       ]\n",
      " [ 16.          -6.5          6.5       ]\n",
      " [ 17.          -0.7          5.9       ]\n",
      " [ 17.          -2.7          5.9       ]\n",
      " [ 17.          -2.7          4.9       ]\n",
      " [ 17.          -0.7          4.9       ]\n",
      " [ 17.          -0.7          5.9       ]\n",
      " [ 18.          -8.561662    10.        ]\n",
      " [ 18.           5.6         10.        ]\n",
      " [ 18.           5.6        -10.        ]\n",
      " [ 18.          -8.561662   -10.        ]\n",
      " [ 18.          -8.561662    10.        ]]\n",
      "5 10 10\n"
     ]
    }
   ],
   "source": [
    "env = NavRepTrainEnv(silent=True, scenario='test', adaptive=False)\n",
    "#env.soadrl_sim.human_num = 5\n",
    "#env.soadrl_sim.num_walls = 5\n",
    "#env.soadrl_sim.num_circles = 5\n",
    "env.reset()\n",
    "verts = env.soadrl_sim.obstacle_vertices\n",
    "env.soadrl_sim.robot.py = 1\n",
    "\n",
    "print(env.soadrl_sim.human_num,env.soadrl_sim.num_walls,env.soadrl_sim.num_circles)\n"
   ]
  },
  {
   "cell_type": "code",
   "execution_count": 10,
   "id": "stupid-fellow",
   "metadata": {},
   "outputs": [
    {
     "data": {
      "text/plain": [
       "[(-1.1098221099286927, -1.5098221099286928),\n",
       " (-2.6901778900713076, -1.5098221099286928),\n",
       " (-2.6901778900713076, -3.090177890071308),\n",
       " (-1.1098221099286927, -3.090177890071308)]"
      ]
     },
     "execution_count": 10,
     "metadata": {},
     "output_type": "execute_result"
    }
   ],
   "source": [
    "verts[0]"
   ]
  },
  {
   "cell_type": "code",
   "execution_count": 11,
   "id": "stock-spine",
   "metadata": {},
   "outputs": [
    {
     "data": {
      "image/png": "[encoded data removed]",
      "text/plain": [
       "<Figure size 1080x1080 with 1 Axes>"
      ]
     },
     "metadata": {
      "needs_background": "light"
     },
     "output_type": "display_data"
    }
   ],
   "source": [
    "fig, ax = plt.subplots(figsize=[15,15])\n",
    "for r in verts:\n",
    "    polygon = Polygon(np.array(r), fill=False)\n",
    "    ax.add_patch(polygon)\n",
    "\n",
    "plt.xlim([-10,7])\n",
    "plt.ylim([-11,11])\n",
    "ax.set_aspect('equal', 'box')\n",
    "plt.show()"
   ]
  },
  {
   "cell_type": "code",
   "execution_count": null,
   "id": "prepared-seattle",
   "metadata": {},
   "outputs": [
    {
     "name": "stdout",
     "output_type": "stream",
     "text": [
      "Loading map definition from /home/mads/miniconda3/envs/NavRepEnv/lib/python3.6/site-packages/asl_pepper_2d_sim_maps/maps/asl_office_j.yaml\n",
      "Map definition found. Loading map from /home/mads/miniconda3/envs/NavRepEnv/lib/python3.6/site-packages/asl_pepper_2d_sim_maps/maps/asl_office_j.pgm\n",
      "Agentstate loaded from /home/mads/miniconda3/envs/NavRepEnv/lib/python3.6/site-packages/pyIA/scenarios/irosasl_office_j3.pickle\n",
      "Loading map definition from /home/mads/miniconda3/envs/NavRepEnv/lib/python3.6/site-packages/asl_pepper_2d_sim_maps/maps/asl_office_j.yaml\n",
      "Map definition found. Loading map from /home/mads/miniconda3/envs/NavRepEnv/lib/python3.6/site-packages/asl_pepper_2d_sim_maps/maps/asl_office_j.pgm\n",
      "Creating Raytracer\n",
      "Creating PyOmap\n",
      "Creating PyRayMarching\n",
      "Creating virtual Peppers\n",
      "calculating TSDF\n"
     ]
    }
   ],
   "source": [
    "envIAN = IANEnv()\n",
    "envIAN.reset()\n",
    "map2d = envIAN.iarlenv.rlenv.coarse_map2d\n",
    "a = map2d.occupancy()\n",
    "print(map2d.resolution())\n",
    "print(a.astype(int))\n",
    "fig, ax = plt.subplots(figsize=[15,15])\n",
    "ax.imshow(a.astype(int),cmap='Greys',interpolation='none', extent=np.array([0,a.shape[1],0,a.shape[0]])*map2d.resolution())\n",
    "plt.show()"
   ]
  },
  {
   "cell_type": "code",
   "execution_count": null,
   "id": "hindu-times",
   "metadata": {},
   "outputs": [],
   "source": [
    "dir(map2d)"
   ]
  },
  {
   "cell_type": "code",
   "execution_count": null,
   "id": "minus-ethiopia",
   "metadata": {},
   "outputs": [],
   "source": [
    "rng = np.random.default_rng(12345)\n",
    "\n",
    "class Room(object):\n",
    "    def __init__(self, h, w, c):\n",
    "        self.update_hwc(h,w,c)\n",
    "        self.corridor_sides = []\n",
    "        self.door = []\n",
    "        self.door_w = 0.9\n",
    "        self.wall_thickness = 0.1\n",
    "    def update_hwc(self, h, w, c):\n",
    "        self.dim = np.array([w,h])\n",
    "        self.c = c\n",
    "        \n",
    "    @classmethod\n",
    "    def from_vert(cls, vert):\n",
    "        min_x, max_x = np.min(vert[:,0]),np.max(vert[:,0])\n",
    "        min_y, max_y = np.min(vert[:,1]),np.max(vert[:,1])\n",
    "        h = max_y - min_y\n",
    "        w = max_x - min_x\n",
    "        c = np.array([max_x+min_x,max_y+min_y])/2\n",
    "        return cls(h,w,c)\n",
    "    \n",
    "    def get_vert(self):\n",
    "        return self.c + np.array([[self.dim[0], self.dim[1]],[-self.dim[0],self.dim[1]],[-self.dim[0],-self.dim[1]],[self.dim[0],-self.dim[1]]])/2\n",
    "    \n",
    "    def get_area(self):\n",
    "        return self.dim[0]*self.dim[1]\n",
    "    \n",
    "    def add_door(self, side=None):\n",
    "        if side == None:\n",
    "            s = rng.choice(self.corridor_sides)\n",
    "        else:\n",
    "            s = side\n",
    "        if s == 0 or s == 2:\n",
    "            axis = 1\n",
    "        elif s == 1 or s == 3:\n",
    "            axis = 0\n",
    "        \n",
    "        if s == 0 or s == 3:\n",
    "            fact = 1\n",
    "        elif s == 1 or s == 2:\n",
    "            fact = -1\n",
    "        door_point = np.zeros([2,2])\n",
    "        door_point[:,axis] = self.c[axis] + fact*self.dim[axis]/2\n",
    "        p = rng.beta(1,1)*(self.dim[1-axis]-self.door_w-self.wall_thickness*2) - (self.dim[1-axis]-self.door_w-self.wall_thickness*2)/2\n",
    "        door_point[:,1-axis] = (self.c[1-axis] + p) + np.array([-self.door_w,self.door_w])/2\n",
    "        door_point = door_point if s < 2  else np.flip(door_point,0) # ensure that order is correct relative to positive direction\n",
    "        \n",
    "        other_doors = [d for d in self.door if d[1]==s]\n",
    "        \n",
    "        collision = False\n",
    "        for door in other_doors:\n",
    "            #check if current door clashes with existing door NOT WORKING\n",
    "            if any(door_point[:,1-axis] > np.min(door[0][:,1-axis])) and any(door_point[:,1-axis] < np.max(door[0][:,1-axis])):\n",
    "                collision = True\n",
    "                print(\"collision\")\n",
    "        \n",
    "        if not collision:\n",
    "            self.door.append((door_point,s))\n",
    "        \n",
    "        #      0\n",
    "        #   -------\n",
    "        #   |     |\n",
    "        # 1 |     | 3\n",
    "        #   |     |\n",
    "        #   -------\n",
    "        #      2\n",
    "        \n",
    "    def get_polygons(self):\n",
    "        if len(self.door) < 1:\n",
    "            return [self.get_vert()]\n",
    "        else:\n",
    "            polygon_list = []\n",
    "            rectangle_list = []\n",
    "            door_add = np.array([[0,-1],[1,0],[0,1],[-1,0]])*self.wall_thickness\n",
    "            vert_add = np.array([[-1,-1],[1,-1],[1,1],[-1,1]])*self.wall_thickness\n",
    "            verts = self.get_vert()\n",
    "            verts_prime = verts+vert_add\n",
    "\n",
    "            doors = self.door\n",
    "            \n",
    "            # sorting\n",
    "            door_avg = np.array([np.mean(d[0], axis=0) for d in doors])-self.c\n",
    "            first_vert_ang = np.arctan2(verts[0][1]-self.c[1], verts[0][0]-self.c[0])\n",
    "            #print(\"first_vert_ang: \", first_vert_ang)\n",
    "            sorted_door_idx = np.argsort(np.mod(np.arctan2(door_avg[:,1],door_avg[:,0])-first_vert_ang+np.pi*2,np.pi*2))\n",
    "            #print(\"sorted index: \", sorted_door_idx)\n",
    "\n",
    "            # create polygon 1\n",
    "            cur_door_idx = sorted_door_idx[0]\n",
    "            cur_door = doors[cur_door_idx]\n",
    "            last_door = doors[sorted_door_idx[-1]]\n",
    "            \n",
    "            vert_base = np.concatenate([verts[last_door[1]+1:],verts[:cur_door[1]+1]])\n",
    "            vert_base_prime = np.concatenate([verts_prime[last_door[1]+1:],verts_prime[:cur_door[1]+1]])\n",
    "            \n",
    "            vert_base = np.concatenate([last_door[0][0].reshape((1,-1)), vert_base, cur_door[0][1].reshape((1,-1))])\n",
    "            vert_base_prime = np.concatenate([(last_door[0][0]+ door_add[last_door[1]]).reshape((1,-1)),\n",
    "                                             vert_base_prime, (cur_door[0][1]+ door_add[cur_door[1]]).reshape((1,-1))])\n",
    "            for j in range(vert_base.shape[0]-1):\n",
    "                outer = vert_base[j:j+2].copy()\n",
    "                outer_prime = vert_base_prime[j:j+2].copy()\n",
    "                axis = np.argwhere(outer[0]==outer[1])\n",
    "                inner = outer.copy()\n",
    "                inner[:,axis] = outer_prime[:,axis]\n",
    "                inner = np.flip(inner, 0)\n",
    "                rectangle_list.append(np.concatenate([outer, inner]))\n",
    "\n",
    "            vert_base_prime = np.flip(vert_base_prime,0)\n",
    "            \n",
    "            polygon_list.append(np.concatenate([vert_base, vert_base_prime]).copy())\n",
    "\n",
    "            for i in range(len(sorted_door_idx)-1):\n",
    "                cur_door = doors[sorted_door_idx[i]]\n",
    "                next_door = doors[sorted_door_idx[i+1]]\n",
    "                vert_base = verts[cur_door[1]+1:next_door[1]+1]\n",
    "                vert_base_prime = verts_prime[cur_door[1]+1:next_door[1]+1]\n",
    "                \n",
    "                vert_base = np.concatenate([cur_door[0][0].reshape((1,-1)), vert_base, next_door[0][1].reshape((1,-1))])\n",
    "                vert_base_prime = np.concatenate([(cur_door[0][0]+ door_add[cur_door[1]]).reshape((1,-1)),\n",
    "                                             vert_base_prime, (next_door[0][1]+ door_add[next_door[1]]).reshape((1,-1))])\n",
    "                for j in range(vert_base.shape[0]-1):\n",
    "                    outer = vert_base[j:j+2].copy()\n",
    "                    outer_prime = vert_base_prime[j:j+2].copy()\n",
    "                    axis = np.argwhere(outer[0]==outer[1])\n",
    "                    inner = outer.copy()\n",
    "                    inner[:,axis] = outer_prime[:,axis]\n",
    "                    inner = np.flip(inner, 0)\n",
    "                    rectangle_list.append(np.concatenate([outer, inner]))\n",
    "                \n",
    "                vert_base_prime = np.flip(vert_base_prime,0)\n",
    "                \n",
    "                polygon_list.append(np.concatenate([vert_base, vert_base_prime]).copy())\n",
    "            \n",
    "        return polygon_list, rectangle_list\n",
    "    \n",
    "    def set_corridor_sides(self, l):\n",
    "        l = set(l)\n",
    "        self.corridor_sides = list(l)\n",
    "        \n",
    "    def get_corridor_sides(self):\n",
    "        return self.corridor_sides\n",
    "\n",
    "    def split_room(self, axis, corridor_w):\n",
    "        min_, max_ = np.min(self.get_vert()[:,axis]),np.max(self.get_vert()[:,axis])\n",
    "        split = rng.random()*(max_-min_)+min_\n",
    "        split = rng.beta(1,1)*(max_-min_-corridor_w)+min_+corridor_w/2\n",
    "        room1 = self.get_vert().copy()\n",
    "        result = []\n",
    "        room1[room1[:,axis]==min_,axis] = split+corridor_w/2\n",
    "        room1 = Room.from_vert(room1)\n",
    "        if axis == 0:\n",
    "            side1 = 1\n",
    "            side2 = 3\n",
    "        else:\n",
    "            side1 = 2\n",
    "            side2 = 0\n",
    "        if corridor_w < 0.1:\n",
    "            corridor_sides1 = self.get_corridor_sides()\n",
    "            if side1 in corridor_sides1:\n",
    "                corridor_sides1.remove(side1)\n",
    "            corridor_sides2 = self.get_corridor_sides()\n",
    "            if side2 in corridor_sides2:\n",
    "                corridor_sides2.remove(side2)\n",
    "        else:\n",
    "            corridor_sides1 = self.get_corridor_sides() + [side1]\n",
    "            corridor_sides2 = self.get_corridor_sides() + [side2]\n",
    "        \n",
    "        room1.set_corridor_sides(corridor_sides1)\n",
    "        room1.add_door()\n",
    "        if rng.choice([True,False]):\n",
    "            room1.add_door()\n",
    "        \n",
    "        room2 = self.get_vert().copy()\n",
    "        room2[room2[:,axis]==max_,axis] = split-corridor_w/2\n",
    "        room2 = Room.from_vert(room2)\n",
    "        room2.set_corridor_sides(corridor_sides2)\n",
    "        room2.add_door()\n",
    "        if rng.choice([True,False]):\n",
    "            room2.add_door()\n",
    "        return [room1, room2]"
   ]
  },
  {
   "cell_type": "code",
   "execution_count": null,
   "id": "formal-archive",
   "metadata": {},
   "outputs": [],
   "source": []
  }
 ],
 "metadata": {
  "kernelspec": {
   "display_name": "Python 3",
   "language": "python",
   "name": "python3"
  },
  "language_info": {
   "codemirror_mode": {
    "name": "ipython",
    "version": 3
   },
   "file_extension": ".py",
   "mimetype": "text/x-python",
   "name": "python",
   "nbconvert_exporter": "python",
   "pygments_lexer": "ipython3",
   "version": "3.6.13"
  }
 },
 "nbformat": 4,
 "nbformat_minor": 5
}
