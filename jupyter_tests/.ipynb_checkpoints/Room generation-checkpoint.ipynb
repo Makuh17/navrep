{
 "cells": [
  {
   "cell_type": "code",
   "execution_count": 5,
   "id": "medium-george",
   "metadata": {},
   "outputs": [],
   "source": [
    "import numpy as np\n",
    "import matplotlib.pyplot as plt\n",
    "from matplotlib.patches import Circle, Wedge, Polygon\n",
    "from matplotlib.collections import PatchCollection\n",
    "rng = np.random.default_rng(12345)"
   ]
  },
  {
   "cell_type": "code",
   "execution_count": 36,
   "id": "large-mauritius",
   "metadata": {},
   "outputs": [],
   "source": [
    "class Room(object):\n",
    "    def __init__(self, h, w, c):\n",
    "        self.update_hwc(h,w,c)\n",
    "    def update_hwc(self, h, w, c):\n",
    "        self.h = h\n",
    "        self.w = w\n",
    "        self.c = c\n",
    "        \n",
    "    @classmethod\n",
    "    def from_vert(cls, vert):\n",
    "        min_x, max_x = np.min(vert[:,0]),np.max(vert[:,0])\n",
    "        min_y, max_y = np.min(vert[:,1]),np.max(vert[:,1])\n",
    "        h = max_y - min_y\n",
    "        w = max_x - min_x\n",
    "        c = np.array([max_x+min_x,max_y+min_y])/2\n",
    "        return cls(h,w,c)\n",
    "    \n",
    "    def get_vert(self):\n",
    "        return self.c + np.array([[self.w, self.h],[-self.w,self.h],[-self.w,-self.h],[self.w,-self.h]])/2\n",
    "    \n",
    "    def get_area(self):\n",
    "        return self.h*self.w\n",
    "        "
   ]
  },
  {
   "cell_type": "code",
   "execution_count": 37,
   "id": "formal-catalog",
   "metadata": {},
   "outputs": [
    {
     "name": "stdout",
     "output_type": "stream",
     "text": [
      "15.0 12.0 [0. 0.] [ 6. -6. -6.  6.]\n"
     ]
    }
   ],
   "source": [
    "room_h = 15\n",
    "room_w = 12\n",
    "\n",
    "main_room = np.array([[room_w,room_h],[-room_w,room_h],[-room_w,-room_h],[room_w,-room_h]])/2\n",
    "r = Room.from_vert(main_room)\n",
    "\n",
    "print(r.h, r.w, r.c, r.get_vert()[:,0])"
   ]
  },
  {
   "cell_type": "code",
   "execution_count": 38,
   "id": "mexican-leader",
   "metadata": {},
   "outputs": [],
   "source": [
    "def split_room(room, axis, corridor_w):\n",
    "    min_, max_ = np.min(room[:,axis]),np.max(room[:,axis])\n",
    "    split = rng.random()*(max_-min_)+min_\n",
    "    room1 = room.copy()\n",
    "    result = []\n",
    "    room1[room1[:,axis]==min_,axis] = split+corridor_w/2\n",
    "    room2 = room.copy()\n",
    "    room2[room2[:,axis]==max_,axis] = split-corridor_w/2\n",
    "    return [room1, room2]\n",
    "\n",
    "def split_room(room, axis, corridor_w):\n",
    "    min_, max_ = np.min(room.get_vert()[:,axis]),np.max(room.get_vert()[:,axis])\n",
    "    #split = rng.random()*(max_-min_)+min_\n",
    "    split = rng.normal(r.c[axis], 2)\n",
    "    room1 = room.get_vert().copy()\n",
    "    result = []\n",
    "    room1[room1[:,axis]==min_,axis] = split+corridor_w/2\n",
    "    room1 = Room.from_vert(room1)\n",
    "    room2 = room.get_vert().copy()\n",
    "    room2[room2[:,axis]==max_,axis] = split-corridor_w/2\n",
    "    room2 = Room.from_vert(room2)\n",
    "    return [room1, room2]"
   ]
  },
  {
   "cell_type": "code",
   "execution_count": 82,
   "id": "going-latino",
   "metadata": {},
   "outputs": [],
   "source": [
    "room_h = 15\n",
    "room_w = 12\n",
    "\n",
    "main_room = np.array([[room_w,room_h],[-room_w,room_h],[-room_w,-room_h],[room_w,-room_h]])/2\n",
    "main_room = Room.from_vert(main_room)\n",
    "\n",
    "axis = 1\n",
    "corridor_w = 1\n",
    "\n",
    "\n",
    "rooms = []\n",
    "new_rooms = []\n",
    "\n",
    "rooms.append(main_room)\n",
    "for room in rooms:\n",
    "    split = split_room(room, axis, corridor_w)\n",
    "    new_rooms=[r for r in split if r.get_area() > 1 and min(r.h,r.w) > 1]\n",
    "rooms = new_rooms\n",
    "\n",
    "\n",
    "while len(rooms) < 5:\n",
    "    new_rooms = []\n",
    "    axis = 1 - axis\n",
    "    for room in rooms:\n",
    "        if len(new_rooms) >= 5:\n",
    "            break\n",
    "        split = split_room(room, axis, corridor_w)\n",
    "        new_rooms+=[r for r in split if r.get_area() > 1 and min(r.h,r.w) > 1]\n",
    "    rooms = new_rooms\n",
    "\n",
    "#new_rooms = []\n",
    "#axis = 1 - axis\n",
    "#for room in rooms:\n",
    " #   split = split_room(room, axis, corridor_w)\n",
    " #   new_rooms+=[r for r in split if r.get_area() > 1 and min(r.h,r.w) > 1]\n",
    "#rooms = new_rooms"
   ]
  },
  {
   "cell_type": "code",
   "execution_count": 83,
   "id": "residential-percentage",
   "metadata": {},
   "outputs": [
    {
     "data": {
      "image/png": "[encoded data removed]",
      "text/plain": [
       "<Figure size 432x288 with 1 Axes>"
      ]
     },
     "metadata": {
      "needs_background": "light"
     },
     "output_type": "display_data"
    }
   ],
   "source": [
    "plot_rooms = [main_room]+rooms\n",
    "fig, ax = plt.subplots()\n",
    "for r in plot_rooms:\n",
    "    polygon = Polygon(r.get_vert(), fill=False)\n",
    "    ax.add_patch(polygon)\n",
    "plt.xlim([-10,10])\n",
    "plt.ylim([-10,10])\n",
    "ax.set_aspect('equal', 'box')\n",
    "plt.show()"
   ]
  },
  {
   "cell_type": "code",
   "execution_count": 6,
   "id": "racial-greene",
   "metadata": {},
   "outputs": [
    {
     "data": {
      "text/plain": [
       "array([[ 4.,  5.],\n",
       "       [-4.,  5.],\n",
       "       [-4., -5.],\n",
       "       [ 4., -5.],\n",
       "       [ 4.,  5.]])"
      ]
     },
     "execution_count": 6,
     "metadata": {},
     "output_type": "execute_result"
    }
   ],
   "source": [
    "polygon.get_xy()"
   ]
  },
  {
   "cell_type": "code",
   "execution_count": 54,
   "id": "polyphonic-canyon",
   "metadata": {},
   "outputs": [
    {
     "data": {
      "text/plain": [
       "1"
      ]
     },
     "execution_count": 54,
     "metadata": {},
     "output_type": "execute_result"
    }
   ],
   "source": [
    "min(1,2)"
   ]
  },
  {
   "cell_type": "code",
   "execution_count": null,
   "id": "acceptable-prospect",
   "metadata": {},
   "outputs": [],
   "source": []
  }
 ],
 "metadata": {
  "kernelspec": {
   "display_name": "Python 3",
   "language": "python",
   "name": "python3"
  },
  "language_info": {
   "codemirror_mode": {
    "name": "ipython",
    "version": 3
   },
   "file_extension": ".py",
   "mimetype": "text/x-python",
   "name": "python",
   "nbconvert_exporter": "python",
   "pygments_lexer": "ipython3",
   "version": "3.6.13"
  }
 },
 "nbformat": 4,
 "nbformat_minor": 5
}
