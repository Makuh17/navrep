{
 "cells": [
  {
   "cell_type": "code",
   "execution_count": 1,
   "id": "medium-george",
   "metadata": {},
   "outputs": [],
   "source": [
    "import numpy as np\n",
    "import matplotlib.pyplot as plt\n",
    "from matplotlib.patches import Circle, Wedge, Polygon\n",
    "from matplotlib.collections import PatchCollection\n",
    "rng = np.random.default_rng(12345)"
   ]
  },
  {
   "cell_type": "code",
   "execution_count": 443,
   "id": "crude-language",
   "metadata": {},
   "outputs": [],
   "source": [
    "class Room(object):\n",
    "    def __init__(self, h, w, c):\n",
    "        self.update_hwc(h,w,c)\n",
    "        self.corridor_sides = []\n",
    "        self.door = []\n",
    "        self.door_w = 0.9\n",
    "        self.wall_thickness = 0.1\n",
    "    def update_hwc(self, h, w, c):\n",
    "        self.dim = np.array([w,h])\n",
    "        self.c = c\n",
    "        \n",
    "    @classmethod\n",
    "    def from_vert(cls, vert):\n",
    "        min_x, max_x = np.min(vert[:,0]),np.max(vert[:,0])\n",
    "        min_y, max_y = np.min(vert[:,1]),np.max(vert[:,1])\n",
    "        h = max_y - min_y\n",
    "        w = max_x - min_x\n",
    "        c = np.array([max_x+min_x,max_y+min_y])/2\n",
    "        return cls(h,w,c)\n",
    "    \n",
    "    def get_vert(self):\n",
    "        return self.c + np.array([[self.dim[0], self.dim[1]],[-self.dim[0],self.dim[1]],[-self.dim[0],-self.dim[1]],[self.dim[0],-self.dim[1]]])/2\n",
    "    \n",
    "    def get_area(self):\n",
    "        return self.dim[0]*self.dim[1]\n",
    "    \n",
    "    def add_door(self, side=None):\n",
    "        if side == None:\n",
    "            s = rng.choice(self.corridor_sides)\n",
    "        else:\n",
    "            s = side\n",
    "        if side == 0 or side == 2:\n",
    "            axis = 1\n",
    "        elif side == 1 or side == 3:\n",
    "            axis = 0\n",
    "        \n",
    "        if side == 0 or side == 3:\n",
    "            fact = 1\n",
    "        elif side == 1 or side == 2:\n",
    "            fact = -1\n",
    "        door_point = np.zeros([2,2])\n",
    "        door_point[:,axis] = self.c[axis] + fact*self.dim[axis]/2\n",
    "        p = rng.beta(1,1)*(self.dim[1-axis]-self.door_w-self.wall_thickness*2) - (self.dim[1-axis]-self.door_w-self.wall_thickness*2)/2\n",
    "        door_point[:,1-axis] = (self.c[1-axis] + p) + np.array([-self.door_w,self.door_w])/2\n",
    "        door_point = door_point if s < 2  else np.flip(door_point,0) # ensure that order is correct relative to positive direction\n",
    "        \n",
    "        other_doors = [d for d in self.door if d[1]==side]\n",
    "        \n",
    "        collision = False\n",
    "        for door in other_doors:\n",
    "            #check if current door clashes with existing door\n",
    "            if any(door_point[:,1-axis] > np.min(door[0][:,1-axis])) and any(door_point[:,1-axis] < np.max(door[0][:,1-axis])):\n",
    "                collision = True\n",
    "        \n",
    "        if not collision:\n",
    "            self.door.append((door_point,s))\n",
    "        \n",
    "        #      0\n",
    "        #   -------\n",
    "        #   |     |\n",
    "        # 1 |     | 3\n",
    "        #   |     |\n",
    "        #   -------\n",
    "        #      2\n",
    "        \n",
    "    def get_polygons(self):\n",
    "        if len(self.door) < 1:\n",
    "            return [self.get_vert()]\n",
    "        else:\n",
    "            polygon_list = []\n",
    "            door_add = np.array([[0,-1],[1,0],[0,1],[-1,0]])*self.wall_thickness\n",
    "            vert_add = np.array([[-1,-1],[1,-1],[1,1],[-1,1]])*self.wall_thickness\n",
    "            verts = self.get_vert()\n",
    "            verts_prime = verts+vert_add\n",
    "\n",
    "            doors = self.door\n",
    "            \n",
    "            # sorting\n",
    "            door_avg = np.array([np.mean(d[0], axis=0) for d in doors])-self.c\n",
    "            first_vert_ang = np.arctan2(verts[0][1]-self.c[1], verts[0][0]-self.c[0])\n",
    "            #print(\"first_vert_ang: \", first_vert_ang)\n",
    "            sorted_door_idx = np.argsort(np.mod(np.arctan2(door_avg[:,1],door_avg[:,0])-first_vert_ang+np.pi*2,np.pi*2))\n",
    "            #print(\"sorted index: \", sorted_door_idx)\n",
    "\n",
    "            # create polygon 1\n",
    "            cur_door_idx = sorted_door_idx[0]\n",
    "            cur_door = doors[cur_door_idx]\n",
    "            last_door = doors[sorted_door_idx[-1]]\n",
    "            \n",
    "            vert_base = np.concatenate([verts[last_door[1]+1:],verts[:cur_door[1]+1]])\n",
    "            vert_base_prime = np.concatenate([verts_prime[last_door[1]+1:],verts_prime[:cur_door[1]+1]])\n",
    "            \n",
    "            vert_base = np.concatenate([last_door[0][0].reshape((1,-1)), vert_base, cur_door[0][1].reshape((1,-1))])\n",
    "            vert_base_prime = np.concatenate([(last_door[0][0]+ door_add[last_door[1]]).reshape((1,-1)),\n",
    "                                             vert_base_prime, (cur_door[0][1]+ door_add[cur_door[1]]).reshape((1,-1))])\n",
    "            vert_base_prime = np.flip(vert_base_prime,0)\n",
    "            \n",
    "            polygon_list.append(np.concatenate([vert_base, vert_base_prime]).copy())\n",
    "\n",
    "            for i in range(len(sorted_door_idx)-1):\n",
    "                cur_door = doors[sorted_door_idx[i]]\n",
    "                next_door = doors[sorted_door_idx[i+1]]\n",
    "                vert_base = verts[cur_door[1]+1:next_door[1]+1]\n",
    "                vert_base_prime = verts_prime[cur_door[1]+1:next_door[1]+1]\n",
    "                \n",
    "                vert_base = np.concatenate([cur_door[0][0].reshape((1,-1)), vert_base, next_door[0][1].reshape((1,-1))])\n",
    "                vert_base_prime = np.concatenate([(cur_door[0][0]+ door_add[cur_door[1]]).reshape((1,-1)),\n",
    "                                             vert_base_prime, (next_door[0][1]+ door_add[next_door[1]]).reshape((1,-1))])\n",
    "                vert_base_prime = np.flip(vert_base_prime,0)\n",
    "                \n",
    "                polygon_list.append(np.concatenate([vert_base, vert_base_prime]).copy())\n",
    "            \n",
    "        return polygon_list\n",
    "    \n",
    "    def set_corridor_sides(self, l):\n",
    "        l = set(l)\n",
    "        self.corridor_sides = list(l)\n",
    "                "
   ]
  },
  {
   "cell_type": "code",
   "execution_count": 444,
   "id": "clean-classics",
   "metadata": {},
   "outputs": [],
   "source": [
    "room_h = 15\n",
    "room_w = 12\n",
    "\n",
    "main_room = np.array([[room_w,room_h],[-room_w,room_h],[-room_w,-room_h],[room_w,-room_h]])/2\n",
    "r = Room.from_vert(main_room)"
   ]
  },
  {
   "cell_type": "code",
   "execution_count": 445,
   "id": "mexican-leader",
   "metadata": {},
   "outputs": [],
   "source": [
    "def split_room(room, axis, corridor_w):\n",
    "    min_, max_ = np.min(room[:,axis]),np.max(room[:,axis])\n",
    "    split = rng.random()*(max_-min_)+min_\n",
    "    room1 = room.copy()\n",
    "    result = []\n",
    "    room1[room1[:,axis]==min_,axis] = split+corridor_w/2\n",
    "    room2 = room.copy()\n",
    "    room2[room2[:,axis]==max_,axis] = split-corridor_w/2\n",
    "    return [room1, room2]\n",
    "\n",
    "def split_room(room, axis, corridor_w):\n",
    "    min_, max_ = np.min(room.get_vert()[:,axis]),np.max(room.get_vert()[:,axis])\n",
    "    split = rng.random()*(max_-min_)+min_\n",
    "    split = rng.beta(1,1)*(max_-min_-corridor_w)+min_+corridor_w/2\n",
    "    room1 = room.get_vert().copy()\n",
    "    result = []\n",
    "    room1[room1[:,axis]==min_,axis] = split+corridor_w/2\n",
    "    room1 = Room.from_vert(room1)\n",
    "    if axis == 0:\n",
    "        side1 = 1\n",
    "        side2 = 3\n",
    "    else:\n",
    "        side1 = 2\n",
    "        side2 = 0\n",
    "\n",
    "    possible_sides1 = [d[1] for d in room.door]+[side1]\n",
    "    possible_sides2 = [d[1] for d in room.door]+[side2]        \n",
    "        \n",
    "    room1.add_door(rng.choice(possible_sides1))\n",
    "    if rng.choice([True,False]):\n",
    "        room1.add_door(rng.choice(possible_sides1))\n",
    "    \n",
    "    room2 = room.get_vert().copy()\n",
    "    room2[room2[:,axis]==max_,axis] = split-corridor_w/2\n",
    "    room2 = Room.from_vert(room2)\n",
    "    room2.add_door(rng.choice(possible_sides2))\n",
    "    if rng.choice([True,False]):\n",
    "        room2.add_door(rng.choice(possible_sides2))\n",
    "    return [room1, room2]"
   ]
  },
  {
   "cell_type": "code",
   "execution_count": 446,
   "id": "going-latino",
   "metadata": {},
   "outputs": [],
   "source": [
    "room_h = 25\n",
    "room_w = 15\n",
    "\n",
    "main_room = np.array([[room_w,room_h],[-room_w,room_h],[-room_w,-room_h],[room_w,-room_h]])/2\n",
    "main_room = Room.from_vert(main_room)\n",
    "\n",
    "axis = 1\n",
    "corridor_w = 1.5\n",
    "room_num = 6\n",
    "\n",
    "\n",
    "rooms = []\n",
    "\n",
    "rooms.append(main_room)\n",
    "split = split_room(main_room, axis, corridor_w)\n",
    "rooms=[r for r in split if r.get_area() > 1 and min(r.dim[0],r.dim[1]) > 1.5]\n",
    "\n",
    "\n",
    "# Creates corridors\n",
    "for i in range(room_num):\n",
    "    if len(rooms) >= room_num:\n",
    "        break\n",
    "    axis = 1 - axis\n",
    "    corridor_w *= 0.9\n",
    "    num = len(rooms)\n",
    "    for i in range(num):\n",
    "        room = rooms.pop(0)\n",
    "        split = split_room(room, axis, corridor_w)\n",
    "        split = [r for r in split if r.get_area() > 2 and min(r.dim[0],r.dim[1]) > 1.5]\n",
    "        rooms+= split if split else [room]\n",
    "        if len(rooms) >= room_num:\n",
    "            break\n",
    "    r_idx = np.argsort([r.get_area() for r in rooms])#np.arange(len(rooms))\n",
    "    #rng.shuffle(r_idx)\n",
    "    rooms = [rooms[i] for i in r_idx]\n",
    "    \n",
    "# split big rooms\n"
   ]
  },
  {
   "cell_type": "code",
   "execution_count": 447,
   "id": "residential-percentage",
   "metadata": {},
   "outputs": [
    {
     "data": {
      "image/png": "[encoded data removed]",
      "text/plain": [
       "<Figure size 720x720 with 1 Axes>"
      ]
     },
     "metadata": {
      "needs_background": "light"
     },
     "output_type": "display_data"
    }
   ],
   "source": [
    "plot_rooms = [main_room]+rooms\n",
    "fig, ax = plt.subplots(figsize=[10,10])\n",
    "for r in plot_rooms:\n",
    "    if r.door:\n",
    "        for p in r.get_polygons():\n",
    "            polygon = Polygon(np.array(p), fill=False)\n",
    "            ax.add_patch(polygon)\n",
    "            #ax.plot(r.door[0][0][:,0], r.door[0][0][:,1], '.')\n",
    "    else:\n",
    "        polygon = Polygon(r.get_vert(), fill=False)\n",
    "        ax.add_patch(polygon)\n",
    "    \n",
    "plt.xlim([-10,10])\n",
    "plt.ylim([-13,13])\n",
    "ax.set_aspect('equal', 'box')\n",
    "plt.show()"
   ]
  },
  {
   "cell_type": "code",
   "execution_count": 259,
   "id": "racial-greene",
   "metadata": {},
   "outputs": [
    {
     "data": {
      "text/plain": [
       "array([[  1.73538984,  -3.27888239],\n",
       "       [ -7.5       , -12.5       ],\n",
       "       [  1.73538984, -12.5       ],\n",
       "       [  1.73538984,   8.8614378 ],\n",
       "       [ -7.5       ,   8.8614378 ],\n",
       "       [  1.73538984,  -2.37888239],\n",
       "       [  2.73538984,  -2.37888239],\n",
       "       [ -6.5       ,   7.8614378 ],\n",
       "       [  0.73538984,   7.8614378 ],\n",
       "       [  0.73538984, -11.5       ],\n",
       "       [ -6.5       , -11.5       ],\n",
       "       [  2.73538984,  -3.27888239],\n",
       "       [  1.73538984,  -3.27888239]])"
      ]
     },
     "execution_count": 259,
     "metadata": {},
     "output_type": "execute_result"
    }
   ],
   "source": [
    "polygon.get_xy()"
   ]
  },
  {
   "cell_type": "code",
   "execution_count": 129,
   "id": "respected-patio",
   "metadata": {},
   "outputs": [],
   "source": [
    "l = np.array([[1,1],[-1,1],[-1,-1],[1,-1]])"
   ]
  },
  {
   "cell_type": "code",
   "execution_count": 135,
   "id": "retained-certificate",
   "metadata": {},
   "outputs": [
    {
     "data": {
      "text/plain": [
       "array([4.71238898, 0.        , 1.57079633, 3.14159265])"
      ]
     },
     "execution_count": 135,
     "metadata": {},
     "output_type": "execute_result"
    }
   ],
   "source": [
    "np.mod(np.arctan2(l[:,1],l[:,0])-np.arctan2(l[1,1],l[1,0])+np.pi*2,np.pi*2)"
   ]
  },
  {
   "cell_type": "code",
   "execution_count": 24,
   "id": "outstanding-halifax",
   "metadata": {},
   "outputs": [
    {
     "data": {
      "text/plain": [
       "array([[1, 2],\n",
       "       [3, 4],\n",
       "       [5, 6]])"
      ]
     },
     "execution_count": 24,
     "metadata": {},
     "output_type": "execute_result"
    }
   ],
   "source": [
    "l"
   ]
  },
  {
   "cell_type": "code",
   "execution_count": 26,
   "id": "ecological-absorption",
   "metadata": {},
   "outputs": [
    {
     "data": {
      "text/plain": [
       "array([[3, 4]])"
      ]
     },
     "execution_count": 26,
     "metadata": {},
     "output_type": "execute_result"
    }
   ],
   "source": [
    "l[1:2]"
   ]
  },
  {
   "cell_type": "code",
   "execution_count": 33,
   "id": "hydraulic-console",
   "metadata": {},
   "outputs": [
    {
     "data": {
      "text/plain": [
       "array([ 2.35619449, -0.78539816,  0.78539816, -2.35619449])"
      ]
     },
     "execution_count": 33,
     "metadata": {},
     "output_type": "execute_result"
    }
   ],
   "source": [
    "np.arctan2(l[:,1],l[:,0])"
   ]
  },
  {
   "cell_type": "code",
   "execution_count": 34,
   "id": "imported-inquiry",
   "metadata": {},
   "outputs": [
    {
     "data": {
      "text/plain": [
       "array([-1,  1,  1, -1])"
      ]
     },
     "execution_count": 34,
     "metadata": {},
     "output_type": "execute_result"
    }
   ],
   "source": [
    "l[:,0]"
   ]
  },
  {
   "cell_type": "code",
   "execution_count": 35,
   "id": "floating-jurisdiction",
   "metadata": {},
   "outputs": [
    {
     "data": {
      "text/plain": [
       "-0.7853981633974483"
      ]
     },
     "execution_count": 35,
     "metadata": {},
     "output_type": "execute_result"
    }
   ],
   "source": [
    "np.arctan2(-1,1)"
   ]
  },
  {
   "cell_type": "code",
   "execution_count": 38,
   "id": "surprised-border",
   "metadata": {},
   "outputs": [
    {
     "data": {
      "text/plain": [
       "array([[-1, -1],\n",
       "       [ 1, -1],\n",
       "       [ 1,  1],\n",
       "       [-1,  1]])"
      ]
     },
     "execution_count": 38,
     "metadata": {},
     "output_type": "execute_result"
    }
   ],
   "source": [
    "l[np.argsort(np.arctan2(l[:,1],l[:,0]))]"
   ]
  },
  {
   "cell_type": "code",
   "execution_count": 371,
   "id": "innovative-hundred",
   "metadata": {},
   "outputs": [],
   "source": [
    "test_room = Room(10,8,[1,1])"
   ]
  },
  {
   "cell_type": "code",
   "execution_count": 372,
   "id": "plastic-latitude",
   "metadata": {},
   "outputs": [
    {
     "name": "stdout",
     "output_type": "stream",
     "text": [
      "-1.4676200696970885\n",
      "-1.5632815490802605\n"
     ]
    }
   ],
   "source": [
    "test_room.add_door(3)\n",
    "test_room.add_door(2)\n",
    "test_room.add_door(1)\n",
    "test_room.add_door(2)\n",
    "test_room.add_door(0)\n",
    "test_room.add_door(0)"
   ]
  },
  {
   "cell_type": "code",
   "execution_count": 373,
   "id": "level-scanner",
   "metadata": {},
   "outputs": [
    {
     "name": "stdout",
     "output_type": "stream",
     "text": [
      "first_vert_ang:  0.8760580505981934\n",
      "sorted index:  [4 3 2 1 0]\n"
     ]
    },
    {
     "data": {
      "image/png": "[encoded data removed]",
      "text/plain": [
       "<Figure size 720x720 with 1 Axes>"
      ]
     },
     "metadata": {
      "needs_background": "light"
     },
     "output_type": "display_data"
    }
   ],
   "source": [
    "fig, ax = plt.subplots(figsize=[10,10])\n",
    "for p in test_room.get_polygons():\n",
    "    polygon = Polygon(p, fill=False)\n",
    "    ax.add_patch(polygon)\n",
    "plt.xlim([-10,10])\n",
    "plt.ylim([-13,13])\n",
    "ax.set_aspect('equal', 'box')\n",
    "plt.show()"
   ]
  },
  {
   "cell_type": "code",
   "execution_count": null,
   "id": "active-omega",
   "metadata": {},
   "outputs": [],
   "source": []
  },
  {
   "cell_type": "code",
   "execution_count": 263,
   "id": "informal-aurora",
   "metadata": {},
   "outputs": [],
   "source": [
    "l = [1,2,3,4,5,6]\n",
    "ll = [k for k in l if k==1]"
   ]
  },
  {
   "cell_type": "code",
   "execution_count": 264,
   "id": "corporate-virgin",
   "metadata": {},
   "outputs": [
    {
     "data": {
      "text/plain": [
       "[1]"
      ]
     },
     "execution_count": 264,
     "metadata": {},
     "output_type": "execute_result"
    }
   ],
   "source": [
    "ll"
   ]
  },
  {
   "cell_type": "code",
   "execution_count": 278,
   "id": "selective-moore",
   "metadata": {},
   "outputs": [],
   "source": [
    "dd = np.array([[1,2],[2,2]])"
   ]
  },
  {
   "cell_type": "code",
   "execution_count": 298,
   "id": "accurate-wholesale",
   "metadata": {},
   "outputs": [],
   "source": [
    "tt = np.array([[1.4,2],[4,2]])"
   ]
  },
  {
   "cell_type": "code",
   "execution_count": 299,
   "id": "inclusive-locking",
   "metadata": {},
   "outputs": [
    {
     "data": {
      "text/plain": [
       "True"
      ]
     },
     "execution_count": 299,
     "metadata": {},
     "output_type": "execute_result"
    }
   ],
   "source": [
    "any(tt[:,0] > np.min(dd[:,0])) and any(tt[:,0] < np.max(dd[:,0]))"
   ]
  },
  {
   "cell_type": "code",
   "execution_count": 300,
   "id": "nearby-feelings",
   "metadata": {},
   "outputs": [
    {
     "data": {
      "text/plain": [
       "True"
      ]
     },
     "execution_count": 300,
     "metadata": {},
     "output_type": "execute_result"
    }
   ],
   "source": [
    "all(tt[:,0] > np.min(dd,0))"
   ]
  },
  {
   "cell_type": "code",
   "execution_count": 336,
   "id": "artistic-macro",
   "metadata": {},
   "outputs": [
    {
     "name": "stdout",
     "output_type": "stream",
     "text": [
      "first_vert_ang:  0.8760580505981934\n",
      "sorted index:  [4 5 2 3 1 0]\n"
     ]
    },
    {
     "data": {
      "text/plain": [
       "[array([[ 5.        ,  1.47286433],\n",
       "        [ 5.        ,  6.        ],\n",
       "        [-0.75045084,  6.        ],\n",
       "        [-0.75045084,  5.9       ],\n",
       "        [ 4.9       ,  5.9       ],\n",
       "        [ 4.9       ,  1.47286433]]),\n",
       " array([[-1.65045084,  6.        ],\n",
       "        [-2.01321988,  6.        ],\n",
       "        [-2.01321988,  5.9       ],\n",
       "        [-1.65045084,  5.9       ]]),\n",
       " array([[-2.91321988,  6.        ],\n",
       "        [-3.        ,  6.        ],\n",
       "        [-3.        ,  1.54370315],\n",
       "        [-2.9       ,  1.54370315],\n",
       "        [-2.9       ,  5.9       ],\n",
       "        [-2.91321988,  5.9       ]]),\n",
       " array([[-3.        ,  0.64370315],\n",
       "        [-3.        , -4.        ],\n",
       "        [-0.00448602, -4.        ],\n",
       "        [-0.00448602, -3.9       ],\n",
       "        [-2.9       , -3.9       ],\n",
       "        [-2.9       ,  0.64370315]]),\n",
       " array([[ 0.89551398, -4.        ],\n",
       "        [ 2.94807812, -4.        ],\n",
       "        [ 2.94807812, -3.9       ],\n",
       "        [ 0.89551398, -3.9       ]]),\n",
       " array([[ 3.84807812, -4.        ],\n",
       "        [ 5.        , -4.        ],\n",
       "        [ 5.        ,  0.57286433],\n",
       "        [ 4.9       ,  0.57286433],\n",
       "        [ 4.9       , -3.9       ],\n",
       "        [ 3.84807812, -3.9       ]])]"
      ]
     },
     "execution_count": 336,
     "metadata": {},
     "output_type": "execute_result"
    }
   ],
   "source": [
    "test_room.get_polygons()"
   ]
  },
  {
   "cell_type": "code",
   "execution_count": null,
   "id": "accomplished-gamma",
   "metadata": {},
   "outputs": [],
   "source": []
  }
 ],
 "metadata": {
  "kernelspec": {
   "display_name": "Python 3",
   "language": "python",
   "name": "python3"
  },
  "language_info": {
   "codemirror_mode": {
    "name": "ipython",
    "version": 3
   },
   "file_extension": ".py",
   "mimetype": "text/x-python",
   "name": "python",
   "nbconvert_exporter": "python",
   "pygments_lexer": "ipython3",
   "version": "3.6.13"
  }
 },
 "nbformat": 4,
 "nbformat_minor": 5
}
