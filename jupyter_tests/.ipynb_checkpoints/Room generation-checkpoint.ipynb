{
 "cells": [
  {
   "cell_type": "code",
   "execution_count": 1,
   "id": "medium-george",
   "metadata": {},
   "outputs": [
    {
     "name": "stdout",
     "output_type": "stream",
     "text": [
      "/home/mads/miniconda3/envs/NavRepEnv/bin/python\n"
     ]
    },
    {
     "name": "stderr",
     "output_type": "stream",
     "text": [
      "/home/mads/miniconda3/envs/NavRepEnv/lib/python3.6/site-packages/tensorflow/python/framework/dtypes.py:526: FutureWarning: Passing (type, 1) or '1type' as a synonym of type is deprecated; in a future version of numpy, it will be understood as (type, (1,)) / '(1,)type'.\n",
      "  _np_qint8 = np.dtype([(\"qint8\", np.int8, 1)])\n",
      "/home/mads/miniconda3/envs/NavRepEnv/lib/python3.6/site-packages/tensorflow/python/framework/dtypes.py:527: FutureWarning: Passing (type, 1) or '1type' as a synonym of type is deprecated; in a future version of numpy, it will be understood as (type, (1,)) / '(1,)type'.\n",
      "  _np_quint8 = np.dtype([(\"quint8\", np.uint8, 1)])\n",
      "/home/mads/miniconda3/envs/NavRepEnv/lib/python3.6/site-packages/tensorflow/python/framework/dtypes.py:528: FutureWarning: Passing (type, 1) or '1type' as a synonym of type is deprecated; in a future version of numpy, it will be understood as (type, (1,)) / '(1,)type'.\n",
      "  _np_qint16 = np.dtype([(\"qint16\", np.int16, 1)])\n",
      "/home/mads/miniconda3/envs/NavRepEnv/lib/python3.6/site-packages/tensorflow/python/framework/dtypes.py:529: FutureWarning: Passing (type, 1) or '1type' as a synonym of type is deprecated; in a future version of numpy, it will be understood as (type, (1,)) / '(1,)type'.\n",
      "  _np_quint16 = np.dtype([(\"quint16\", np.uint16, 1)])\n",
      "/home/mads/miniconda3/envs/NavRepEnv/lib/python3.6/site-packages/tensorflow/python/framework/dtypes.py:530: FutureWarning: Passing (type, 1) or '1type' as a synonym of type is deprecated; in a future version of numpy, it will be understood as (type, (1,)) / '(1,)type'.\n",
      "  _np_qint32 = np.dtype([(\"qint32\", np.int32, 1)])\n",
      "/home/mads/miniconda3/envs/NavRepEnv/lib/python3.6/site-packages/tensorflow/python/framework/dtypes.py:535: FutureWarning: Passing (type, 1) or '1type' as a synonym of type is deprecated; in a future version of numpy, it will be understood as (type, (1,)) / '(1,)type'.\n",
      "  np_resource = np.dtype([(\"resource\", np.ubyte, 1)])\n",
      "Using TensorFlow backend.\n"
     ]
    },
    {
     "name": "stdout",
     "output_type": "stream",
     "text": [
      "Ros was not found, disabled.\n"
     ]
    }
   ],
   "source": [
    "import sys\n",
    "print(sys.executable)\n",
    "import torch\n",
    "sys.path.append(\"../../\")\n",
    "import numpy as np\n",
    "import matplotlib.pyplot as plt\n",
    "from matplotlib.patches import Circle, Wedge, Polygon\n",
    "from matplotlib.collections import PatchCollection\n",
    "from navrep.envs.navreptrainenv import NavRepTrainEnv\n",
    "from navrep.envs.roomgen import Room, split_room\n",
    "from navrep.envs.navreptrainenv import NavRepTrainEnv\n",
    "from navrep.envs.ianenv import IANEnv\n",
    "rng = np.random.default_rng(12345)"
   ]
  },
  {
   "cell_type": "code",
   "execution_count": 2,
   "id": "clean-classics",
   "metadata": {},
   "outputs": [],
   "source": [
    "room_h = 15\n",
    "room_w = 12\n",
    "\n",
    "main_room = np.array([[room_w,room_h],[-room_w,room_h],[-room_w,-room_h],[room_w,-room_h]])/2\n",
    "r = Room.from_vert(main_room)"
   ]
  },
  {
   "cell_type": "code",
   "execution_count": 3,
   "id": "going-latino",
   "metadata": {},
   "outputs": [
    {
     "name": "stdout",
     "output_type": "stream",
     "text": [
      "collision\n",
      "collision\n",
      "collision\n",
      "collision\n",
      "collision\n",
      "collision\n",
      "collision\n",
      "collision\n",
      "collision\n",
      "collision\n",
      "collision\n",
      "collision\n",
      "collision\n",
      "collision\n",
      "collision\n",
      "collision\n",
      "collision\n",
      "collision\n",
      "collision\n",
      "collision\n",
      "collision\n"
     ]
    }
   ],
   "source": [
    "room_h = 45\n",
    "room_w = 35\n",
    "\n",
    "main_room = np.array([[room_w,room_h],[-room_w,room_h],[-room_w,-room_h],[room_w,-room_h]])/2\n",
    "main_room = Room.from_vert(main_room)\n",
    "\n",
    "axis = 1\n",
    "corridor_w = 1.5\n",
    "corridor_num = 5\n",
    "\n",
    "rooms = []\n",
    "\n",
    "rooms.append(main_room)\n",
    "split = main_room.split_room(axis, corridor_w)\n",
    "rooms=[r for r in split if r.get_area() > 1 and min(r.dim[0],r.dim[1]) > 1.5]\n",
    "\n",
    "\n",
    "# Creates corridors\n",
    "for i in range(corridor_num):\n",
    "    axis = 1 - axis\n",
    "    corridor_w *= 0.9\n",
    "    num = len(rooms)\n",
    "    for i in range(num):\n",
    "        room = rooms.pop(0)\n",
    "        split = room.split_room(axis, corridor_w)\n",
    "        split = [r for r in split if r.get_area() > 2 and min(r.dim[0],r.dim[1]) > 1.5]\n",
    "        rooms+= split if split else [room]\n",
    "    r_idx = np.argsort([r.get_area() for r in rooms])#np.arange(len(rooms))\n",
    "    rooms = [rooms[i] for i in r_idx]\n",
    "    \n",
    "# split big rooms\n",
    "big_rooms = [i for i,r in enumerate(rooms) if r.get_area() > 30 and r.corridor_sides]\n",
    "\n",
    "removed = []\n",
    "while big_rooms:\n",
    "    for i, br_idx in enumerate(big_rooms):\n",
    "        room = rooms.pop(br_idx-i)\n",
    "        axis = np.argmax(room.dim)\n",
    "        #print(room.get_corridor_sides())\n",
    "        if not any(axis == np.mod(room.get_corridor_sides(),2)):\n",
    "            #print(\"flip\")\n",
    "            axis = 1 - axis\n",
    "        for j in range(4):\n",
    "            split = room.split_room(axis, 0)\n",
    "            split_if = [r.get_area() > 2 and min(r.dim[0],r.dim[1]) > 1.5 for r in split]\n",
    "            if all(split_if):\n",
    "                rooms+= split\n",
    "                break\n",
    "            if j==3:\n",
    "                removed += [room]\n",
    "    big_rooms = [i for i,r in enumerate(rooms) if r.get_area() > 30 and r.corridor_sides]\n",
    "rooms += removed"
   ]
  },
  {
   "cell_type": "code",
   "execution_count": 4,
   "id": "standing-wallet",
   "metadata": {},
   "outputs": [
    {
     "name": "stdout",
     "output_type": "stream",
     "text": [
      "[[(array([ 0.94381354, -8.74894477]), array([ 1.60067214, -8.74894477])), (array([-1.15032913, -8.19926339]), array([-1.15032913, -8.74894477]))], [(array([ 0.94381354, -8.74894477]), array([ 1.60067214, -8.74894477])), (array([ 1.60067214, -8.74894477]), array([ 1.60067214, -6.95166663])), (array([ 1.60067214, -6.95166663]), array([-1.15032913, -6.95166663])), (array([-1.15032913, -6.95166663]), array([-1.15032913, -7.29926339])), (array([-1.15032913, -8.19926339]), array([-1.15032913, -8.74894477])), (array([-1.15032913, -8.74894477]), array([ 0.04381354, -8.74894477]))], [(array([-6.57244209,  6.98656444]), array([-6.4559661 ,  6.98656444])), (array([-7.99792512,  8.55363658]), array([-7.99792512,  6.98656444]))], [(array([-6.57244209,  6.98656444]), array([-6.4559661 ,  6.98656444])), (array([-6.4559661 ,  6.98656444]), array([-6.4559661 , 11.05016671])), (array([-6.4559661 , 11.05016671]), array([-7.99792512, 11.05016671])), (array([-7.99792512, 11.05016671]), array([-7.99792512,  9.45363658])), (array([-7.99792512,  8.55363658]), array([-7.99792512,  6.98656444])), (array([-7.99792512,  6.98656444]), array([-7.47244209,  6.98656444]))], [(array([  0.05547886, -21.99426306]), array([  0.05547886, -22.5       ])), (array([  0.42213379, -18.13932063]), array([  0.05547886, -18.13932063]))], [(array([  0.05547886, -21.99426306]), array([  0.05547886, -22.5       ])), (array([  0.05547886, -22.5       ]), array([  1.60067214, -22.5       ])), (array([  1.60067214, -22.5       ]), array([  1.60067214, -18.13932063])), (array([  1.60067214, -18.13932063]), array([  1.32213379, -18.13932063])), (array([  0.42213379, -18.13932063]), array([  0.05547886, -18.13932063])), (array([  0.05547886, -18.13932063]), array([  0.05547886, -21.09426306]))], [(array([ 15.89799858, -12.16346132]), array([ 15.31496115, -12.16346132]))], [(array([ 15.89799858, -12.16346132]), array([ 15.31496115, -12.16346132])), (array([ 15.31496115, -12.16346132]), array([ 15.31496115, -15.43681271])), (array([ 15.31496115, -15.43681271]), array([ 17.5       , -15.43681271])), (array([ 17.5       , -15.43681271]), array([ 17.5       , -12.16346132])), (array([ 17.5       , -12.16346132]), array([ 16.79799858, -12.16346132]))], [(array([ 15.62890086, -20.87441877]), array([ 15.62890086, -22.5       ]))], [(array([ 15.62890086, -20.87441877]), array([ 15.62890086, -22.5       ])), (array([ 15.62890086, -22.5       ]), array([ 17.5, -22.5])), (array([ 17.5, -22.5]), array([ 17.5       , -18.62027037])), (array([ 17.5       , -18.62027037]), array([ 15.62890086, -18.62027037])), (array([ 15.62890086, -18.62027037]), array([ 15.62890086, -19.97441877]))], [(array([ -1.60594646, -11.76953782]), array([  0.38805403, -11.76953782])), (array([ -3.38471431, -10.93677769]), array([ -3.38471431, -11.76953782]))], [(array([ -1.60594646, -11.76953782]), array([  0.38805403, -11.76953782])), (array([  0.38805403, -11.76953782]), array([ 0.38805403, -9.73309477])), (array([ 0.38805403, -9.73309477]), array([-3.38471431, -9.73309477])), (array([-3.38471431, -9.73309477]), array([ -3.38471431, -10.03677769])), (array([ -3.38471431, -10.93677769]), array([ -3.38471431, -11.76953782])), (array([ -3.38471431, -11.76953782]), array([ -2.50594646, -11.76953782]))], [(array([  2.95067214, -20.61550655]), array([  2.95067214, -22.5       ])), (array([  4.21074049, -19.06298384]), array([  2.95067214, -19.06298384]))], [(array([  2.95067214, -20.61550655]), array([  2.95067214, -22.5       ])), (array([  2.95067214, -22.5       ]), array([  5.35965843, -22.5       ])), (array([  5.35965843, -22.5       ]), array([  5.35965843, -19.06298384])), (array([  5.35965843, -19.06298384]), array([  5.11074049, -19.06298384])), (array([  4.21074049, -19.06298384]), array([  2.95067214, -19.06298384])), (array([  2.95067214, -19.06298384]), array([  2.95067214, -19.71550655]))], [(array([15.79526425, -6.95166663]), array([15.44039846, -6.95166663]))], [(array([15.79526425, -6.95166663]), array([15.44039846, -6.95166663])), (array([15.44039846, -6.95166663]), array([ 15.44039846, -11.17931132])), (array([ 15.44039846, -11.17931132]), array([ 17.5       , -11.17931132])), (array([ 17.5       , -11.17931132]), array([17.5       , -6.95166663])), (array([17.5       , -6.95166663]), array([16.69526425, -6.95166663]))], [(array([-15.09069182,   5.66982994]), array([-15.09069182,   5.77156444])), (array([-15.09069182,   4.44282647]), array([-15.09069182,   4.76982994]))], [(array([-15.09069182,   5.66982994]), array([-15.09069182,   5.77156444])), (array([-15.09069182,   5.77156444]), array([-17.5       ,   5.77156444])), (array([-17.5       ,   5.77156444]), array([-17.5       ,   2.08016746])), (array([-17.5       ,   2.08016746]), array([-15.09069182,   2.08016746])), (array([-15.09069182,   2.08016746]), array([-15.09069182,   3.54282647])), (array([-15.09069182,   4.44282647]), array([-15.09069182,   4.76982994]))], [(array([-17.01902945,  -6.95166663]), array([-17.5       ,  -6.95166663]))], [(array([-17.01902945,  -6.95166663]), array([-17.5       ,  -6.95166663])), (array([-17.5       ,  -6.95166663]), array([-17.5       , -10.10016818])), (array([-17.5       , -10.10016818]), array([-14.32682238, -10.10016818])), (array([-14.32682238, -10.10016818]), array([-14.32682238,  -6.95166663])), (array([-14.32682238,  -6.95166663]), array([-16.11902945,  -6.95166663]))], [(array([-2.36190471, -5.45166663]), array([-1.93292595, -5.45166663])), (array([-3.72187515, -3.1515175 ]), array([-3.72187515, -5.45166663]))], [(array([-2.36190471, -5.45166663]), array([-1.93292595, -5.45166663])), (array([-1.93292595, -5.45166663]), array([-1.93292595,  0.70072708])), (array([-1.93292595,  0.70072708]), array([-3.72187515,  0.70072708])), (array([-3.72187515,  0.70072708]), array([-3.72187515, -2.2515175 ])), (array([-3.72187515, -3.1515175 ]), array([-3.72187515, -5.45166663])), (array([-3.72187515, -5.45166663]), array([-3.26190471, -5.45166663]))], [(array([  0.4977782 , -12.98453782]), array([ -1.05251372, -12.98453782]))], [(array([  0.4977782 , -12.98453782]), array([ -1.05251372, -12.98453782])), (array([ -1.05251372, -12.98453782]), array([ -1.05251372, -17.15517063])), (array([ -1.05251372, -17.15517063]), array([  1.60067214, -17.15517063])), (array([  1.60067214, -17.15517063]), array([  1.60067214, -12.98453782])), (array([  1.60067214, -12.98453782]), array([  1.3977782 , -12.98453782]))], [(array([15.64430842,  6.2168321 ]), array([15.64430842,  7.58177436]))], [(array([15.64430842,  6.2168321 ]), array([15.64430842,  7.58177436])), (array([15.64430842,  7.58177436]), array([13.62259175,  7.58177436])), (array([13.62259175,  7.58177436]), array([13.62259175,  1.5341796 ])), (array([13.62259175,  1.5341796 ]), array([15.64430842,  1.5341796 ])), (array([15.64430842,  1.5341796 ]), array([15.64430842,  5.3168321 ]))], [(array([ 13.06348432, -11.98039755]), array([13.06348432, -9.42600546])), (array([ 11.00761773, -12.09849864]), array([ 11.00761773, -15.43681271]))], [(array([ 13.06348432, -11.98039755]), array([13.06348432, -9.42600546])), (array([13.06348432, -9.42600546]), array([11.00761773, -9.42600546])), (array([11.00761773, -9.42600546]), array([ 11.00761773, -11.19849864])), (array([ 11.00761773, -12.09849864]), array([ 11.00761773, -15.43681271])), (array([ 11.00761773, -15.43681271]), array([ 13.06348432, -15.43681271])), (array([ 13.06348432, -15.43681271]), array([ 13.06348432, -12.88039755]))], [(array([0.59682919, 4.04677181]), array([0.59682919, 5.77156444]))], [(array([0.59682919, 4.04677181]), array([0.59682919, 5.77156444])), (array([0.59682919, 5.77156444]), array([-3.72187515,  5.77156444])), (array([-3.72187515,  5.77156444]), array([-3.72187515,  1.68487708])), (array([-3.72187515,  1.68487708]), array([0.59682919, 1.68487708])), (array([0.59682919, 1.68487708]), array([0.59682919, 3.14677181]))], [(array([7.05026982, 2.85044626]), array([7.05026982, 5.77156444])), (array([5.51305894, 5.77156444]), array([1.48256419, 5.77156444]))], [(array([7.05026982, 2.85044626]), array([7.05026982, 5.77156444])), (array([7.05026982, 5.77156444]), array([6.41305894, 5.77156444])), (array([5.51305894, 5.77156444]), array([1.48256419, 5.77156444])), (array([1.48256419, 5.77156444]), array([1.48256419, 1.68487708])), (array([1.48256419, 1.68487708]), array([7.05026982, 1.68487708])), (array([7.05026982, 1.68487708]), array([7.05026982, 1.95044626]))], [(array([-4.81537515, -0.17572967]), array([-4.81537515,  1.09601746]))], [(array([-4.81537515, -0.17572967]), array([-4.81537515,  1.09601746])), (array([-4.81537515,  1.09601746]), array([-8.50792919,  1.09601746])), (array([-8.50792919,  1.09601746]), array([-8.50792919, -5.45166663])), (array([-8.50792919, -5.45166663]), array([-4.81537515, -5.45166663])), (array([-4.81537515, -5.45166663]), array([-4.81537515, -1.07572967]))], [(array([12.73685675,  6.64773911]), array([12.73685675,  7.58177436])), (array([9.51265495, 7.58177436]), array([8.40026982, 7.58177436]))], [(array([12.73685675,  6.64773911]), array([12.73685675,  7.58177436])), (array([12.73685675,  7.58177436]), array([10.41265495,  7.58177436])), (array([9.51265495, 7.58177436]), array([8.40026982, 7.58177436])), (array([8.40026982, 7.58177436]), array([8.40026982, 1.5341796 ])), (array([8.40026982, 1.5341796 ]), array([12.73685675,  1.5341796 ])), (array([12.73685675,  1.5341796 ]), array([12.73685675,  5.74773911]))], [(array([13.39738803,  0.3191796 ]), array([9.59319378, 0.3191796 ]))], [(array([13.39738803,  0.3191796 ]), array([9.59319378, 0.3191796 ])), (array([9.59319378, 0.3191796 ]), array([ 9.59319378, -3.89727175])), (array([ 9.59319378, -3.89727175]), array([16.26940663, -3.89727175])), (array([16.26940663, -3.89727175]), array([16.26940663,  0.3191796 ])), (array([16.26940663,  0.3191796 ]), array([14.29738803,  0.3191796 ]))], [(array([-4.47821431, -8.73551496]), array([-4.47821431, -6.95166663])), (array([-13.44108738,  -9.59780301]), array([-13.44108738, -10.10016818]))], [(array([-4.47821431, -8.73551496]), array([-4.47821431, -6.95166663])), (array([-4.47821431, -6.95166663]), array([-13.44108738,  -6.95166663])), (array([-13.44108738,  -6.95166663]), array([-13.44108738,  -8.69780301])), (array([-13.44108738,  -9.59780301]), array([-13.44108738, -10.10016818])), (array([-13.44108738, -10.10016818]), array([ -4.47821431, -10.10016818])), (array([ -4.47821431, -10.10016818]), array([-4.47821431, -9.63551496]))], [(array([ 11.63272724, -19.06298384]), array([  6.24539343, -19.06298384]))], [(array([ 11.63272724, -19.06298384]), array([  6.24539343, -19.06298384])), (array([  6.24539343, -19.06298384]), array([  6.24539343, -22.5       ])), (array([  6.24539343, -22.5       ]), array([ 14.53540086, -22.5       ])), (array([ 14.53540086, -22.5       ]), array([ 14.53540086, -19.06298384])), (array([ 14.53540086, -19.06298384]), array([ 12.53272724, -19.06298384]))], [(array([-6.4559661 , 19.61694836]), array([-6.4559661, 22.5      ]))], [(array([-6.4559661 , 19.61694836]), array([-6.4559661, 22.5      ])), (array([-6.4559661, 22.5      ]), array([-9.49316219, 22.5       ])), (array([-9.49316219, 22.5       ]), array([-9.49316219, 16.55405468])), (array([-9.49316219, 16.55405468]), array([-6.4559661 , 16.55405468])), (array([-6.4559661 , 16.55405468]), array([-6.4559661 , 18.71694836]))], [(array([-6.4559661 , 16.36544007]), array([-6.4559661 , 16.55405468]))], [(array([-6.4559661 , 16.36544007]), array([-6.4559661 , 16.55405468])), (array([-6.4559661 , 16.55405468]), array([-9.49316219, 16.55405468])), (array([-9.49316219, 16.55405468]), array([-9.49316219, 12.03431671])), (array([-9.49316219, 12.03431671]), array([-6.4559661 , 12.03431671])), (array([-6.4559661 , 12.03431671]), array([-6.4559661 , 15.46544007]))], [(array([-6.98310084,  2.08016746]), array([-4.81537515,  2.08016746]))], [(array([-6.98310084,  2.08016746]), array([-4.81537515,  2.08016746])), (array([-4.81537515,  2.08016746]), array([-4.81537515,  5.77156444])), (array([-4.81537515,  5.77156444]), array([-9.20289696,  5.77156444])), (array([-9.20289696,  5.77156444]), array([-9.20289696,  2.08016746])), (array([-9.20289696,  2.08016746]), array([-7.88310084,  2.08016746]))], [(array([-12.47134606,   5.77156444]), array([-14.20495682,   5.77156444]))], [(array([-12.47134606,   5.77156444]), array([-14.20495682,   5.77156444])), (array([-14.20495682,   5.77156444]), array([-14.20495682,   2.08016746])), (array([-14.20495682,   2.08016746]), array([-9.20289696,  2.08016746])), (array([-9.20289696,  2.08016746]), array([-9.20289696,  5.77156444])), (array([-9.20289696,  5.77156444]), array([-11.57134606,   5.77156444]))], [(array([-10.98179235,   6.98656444]), array([-8.88366012,  6.98656444]))], [(array([-10.98179235,   6.98656444]), array([-8.88366012,  6.98656444])), (array([-8.88366012,  6.98656444]), array([-8.88366012, 11.05016671])), (array([-8.88366012, 11.05016671]), array([-12.1850392 ,  11.05016671])), (array([-12.1850392 ,  11.05016671]), array([-12.1850392 ,   6.98656444])), (array([-12.1850392 ,   6.98656444]), array([-11.88179235,   6.98656444]))], [(array([-17.25588121,  11.05016671]), array([-17.5       ,  11.05016671]))], [(array([-17.25588121,  11.05016671]), array([-17.5       ,  11.05016671])), (array([-17.5       ,  11.05016671]), array([-17.5       ,   6.98656444])), (array([-17.5       ,   6.98656444]), array([-12.1850392 ,   6.98656444])), (array([-12.1850392 ,   6.98656444]), array([-12.1850392 ,  11.05016671])), (array([-12.1850392 ,  11.05016671]), array([-16.35588121,  11.05016671]))], [(array([  7.65247202, -15.43681271]), array([ 10.12188273, -15.43681271])), (array([ 6.96546574, -9.42600546]), array([ 5.7122715 , -9.42600546]))], [(array([  7.65247202, -15.43681271]), array([ 10.12188273, -15.43681271])), (array([ 10.12188273, -15.43681271]), array([10.12188273, -9.42600546])), (array([10.12188273, -9.42600546]), array([ 7.86546574, -9.42600546])), (array([ 6.96546574, -9.42600546]), array([ 5.7122715 , -9.42600546])), (array([ 5.7122715 , -9.42600546]), array([  5.7122715 , -15.43681271])), (array([  5.7122715 , -15.43681271]), array([  6.75247202, -15.43681271]))], [(array([  4.43629779, -15.43681271]), array([  5.7122715 , -15.43681271]))], [(array([  4.43629779, -15.43681271]), array([  5.7122715 , -15.43681271])), (array([  5.7122715 , -15.43681271]), array([ 5.7122715 , -9.42600546])), (array([ 5.7122715 , -9.42600546]), array([ 2.95067214, -9.42600546])), (array([ 2.95067214, -9.42600546]), array([  2.95067214, -15.43681271])), (array([  2.95067214, -15.43681271]), array([  3.53629779, -15.43681271]))], [(array([-0.92153208,  0.70072708]), array([-1.04719095,  0.70072708]))], [(array([-0.92153208,  0.70072708]), array([-1.04719095,  0.70072708])), (array([-1.04719095,  0.70072708]), array([-1.04719095, -5.45166663])), (array([-1.04719095, -5.45166663]), array([ 1.67134567, -5.45166663])), (array([ 1.67134567, -5.45166663]), array([1.67134567, 0.70072708])), (array([1.67134567, 0.70072708]), array([-0.02153208,  0.70072708]))], [(array([-11.89881607,   1.09601746]), array([-13.8944581 ,   1.09601746]))], [(array([-11.89881607,   1.09601746]), array([-13.8944581 ,   1.09601746])), (array([-13.8944581 ,   1.09601746]), array([-13.8944581 ,  -5.45166663])), (array([-13.8944581 ,  -5.45166663]), array([-9.39366419, -5.45166663])), (array([-9.39366419, -5.45166663]), array([-9.39366419,  1.09601746])), (array([-9.39366419,  1.09601746]), array([-10.99881607,   1.09601746]))], [(array([-15.71980508,  -5.45166663]), array([-13.8944581 ,  -5.45166663]))], [(array([-15.71980508,  -5.45166663]), array([-13.8944581 ,  -5.45166663])), (array([-13.8944581 ,  -5.45166663]), array([-13.8944581 ,   1.09601746])), (array([-13.8944581 ,   1.09601746]), array([-17.5       ,   1.09601746])), (array([-17.5       ,   1.09601746]), array([-17.5       ,  -5.45166663])), (array([-17.5       ,  -5.45166663]), array([-16.61980508,  -5.45166663]))], [(array([ 2.08687201, 16.60505473]), array([ 2.08687201, 15.04009036]))], [(array([ 2.08687201, 16.60505473]), array([ 2.08687201, 15.04009036])), (array([ 2.08687201, 15.04009036]), array([ 7.05026982, 15.04009036])), (array([ 7.05026982, 15.04009036]), array([ 7.05026982, 20.06695493])), (array([ 7.05026982, 20.06695493]), array([ 2.08687201, 20.06695493])), (array([ 2.08687201, 20.06695493]), array([ 2.08687201, 17.50505473]))], [(array([-10.37889719,  20.40031832]), array([-10.37889719,  22.5       ]))], [(array([-10.37889719,  20.40031832]), array([-10.37889719,  22.5       ])), (array([-10.37889719,  22.5       ]), array([-17.5,  22.5])), (array([-17.5,  22.5]), array([-17.5       ,  18.76073833])), (array([-17.5       ,  18.76073833]), array([-10.37889719,  18.76073833])), (array([-10.37889719,  18.76073833]), array([-10.37889719,  19.50031832]))], [(array([ 8.40026982, 20.13270875]), array([ 8.40026982, 17.39522885]))], [(array([ 8.40026982, 20.13270875]), array([ 8.40026982, 17.39522885])), (array([ 8.40026982, 17.39522885]), array([14.10779076, 17.39522885])), (array([14.10779076, 17.39522885]), array([14.10779076, 22.5       ])), (array([14.10779076, 22.5       ]), array([ 8.40026982, 22.5       ])), (array([ 8.40026982, 22.5       ]), array([ 8.40026982, 21.03270875]))], [(array([-5.3624661 ,  8.13598849]), array([-5.3624661 ,  6.98656444]))], [(array([-5.3624661 ,  8.13598849]), array([-5.3624661 ,  6.98656444])), (array([-5.3624661 ,  6.98656444]), array([1.20113701, 6.98656444])), (array([1.20113701, 6.98656444]), array([1.20113701, 9.40001972])), (array([1.20113701, 9.40001972]), array([-5.3624661 ,  9.40001972])), (array([-5.3624661 ,  9.40001972]), array([-5.3624661 ,  9.03598849]))], [(array([3.99676127, 0.70072708]), array([3.65489296, 0.70072708]))], [(array([3.99676127, 0.70072708]), array([3.65489296, 0.70072708])), (array([3.65489296, 0.70072708]), array([ 3.65489296, -5.45166663])), (array([ 3.65489296, -5.45166663]), array([ 7.05026982, -5.45166663])), (array([ 7.05026982, -5.45166663]), array([7.05026982, 0.70072708])), (array([7.05026982, 0.70072708]), array([4.89676127, 0.70072708]))], [(array([ 2.90560945, -5.45166663]), array([ 3.65489296, -5.45166663])), (array([2.15492223, 0.70072708]), array([1.67134567, 0.70072708]))], [(array([ 2.90560945, -5.45166663]), array([ 3.65489296, -5.45166663])), (array([ 3.65489296, -5.45166663]), array([3.65489296, 0.70072708])), (array([3.65489296, 0.70072708]), array([3.05492223, 0.70072708])), (array([2.15492223, 0.70072708]), array([1.67134567, 0.70072708])), (array([1.67134567, 0.70072708]), array([ 1.67134567, -5.45166663])), (array([ 1.67134567, -5.45166663]), array([ 2.00560945, -5.45166663]))], [(array([ 7.05026982, 14.69860632]), array([ 7.05026982, 15.04009036])), (array([ 2.08687201, 13.9704024 ]), array([ 2.08687201, 12.08907311]))], [(array([ 7.05026982, 14.69860632]), array([ 7.05026982, 15.04009036])), (array([ 7.05026982, 15.04009036]), array([ 2.08687201, 15.04009036])), (array([ 2.08687201, 15.04009036]), array([ 2.08687201, 14.8704024 ])), (array([ 2.08687201, 13.9704024 ]), array([ 2.08687201, 12.08907311])), (array([ 2.08687201, 12.08907311]), array([ 7.05026982, 12.08907311])), (array([ 7.05026982, 12.08907311]), array([ 7.05026982, 13.79860632]))], [(array([ 7.05026982, 10.04202527]), array([ 7.05026982, 12.08907311]))], [(array([ 7.05026982, 10.04202527]), array([ 7.05026982, 12.08907311])), (array([ 7.05026982, 12.08907311]), array([ 2.08687201, 12.08907311])), (array([ 2.08687201, 12.08907311]), array([2.08687201, 6.98656444])), (array([2.08687201, 6.98656444]), array([7.05026982, 6.98656444])), (array([7.05026982, 6.98656444]), array([7.05026982, 9.14202527]))], [(array([-10.37889719,  18.24836626]), array([-10.37889719,  18.76073833]))], [(array([-10.37889719,  18.24836626]), array([-10.37889719,  18.76073833])), (array([-10.37889719,  18.76073833]), array([-17.5       ,  18.76073833])), (array([-17.5       ,  18.76073833]), array([-17.5       ,  16.44231701])), (array([-17.5       ,  16.44231701]), array([-10.37889719,  16.44231701])), (array([-10.37889719,  16.44231701]), array([-10.37889719,  17.34836626]))], [(array([8.40026982, 9.41193765]), array([8.40026982, 8.56592436]))], [(array([8.40026982, 9.41193765]), array([8.40026982, 8.56592436])), (array([8.40026982, 8.56592436]), array([14.10779076,  8.56592436])), (array([14.10779076,  8.56592436]), array([14.10779076, 10.50842452])), (array([14.10779076, 10.50842452]), array([ 8.40026982, 10.50842452])), (array([ 8.40026982, 10.50842452]), array([ 8.40026982, 10.31193765]))], [(array([ 1.20113701, 16.68317301]), array([ 1.20113701, 20.06695493]))], [(array([ 1.20113701, 16.68317301]), array([ 1.20113701, 20.06695493])), (array([ 1.20113701, 20.06695493]), array([-5.3624661 , 20.06695493])), (array([-5.3624661 , 20.06695493]), array([-5.3624661 , 15.55112216])), (array([-5.3624661 , 15.55112216]), array([ 1.20113701, 15.55112216])), (array([ 1.20113701, 15.55112216]), array([ 1.20113701, 15.78317301]))], [(array([ -5.24734732, -21.27091712]), array([ -3.38397713, -21.27091712])), (array([ -6.03840181, -12.98453782]), array([ -6.83287719, -12.98453782]))], [(array([ -5.24734732, -21.27091712]), array([ -3.38397713, -21.27091712])), (array([ -3.38397713, -21.27091712]), array([ -3.38397713, -12.98453782])), (array([ -3.38397713, -12.98453782]), array([ -5.13840181, -12.98453782])), (array([ -6.03840181, -12.98453782]), array([ -6.83287719, -12.98453782])), (array([ -6.83287719, -12.98453782]), array([ -6.83287719, -21.27091712])), (array([ -6.83287719, -21.27091712]), array([ -6.14734732, -21.27091712]))], [(array([ -8.03289722, -12.98453782]), array([ -8.52227157, -12.98453782]))], [(array([ -8.03289722, -12.98453782]), array([ -8.52227157, -12.98453782])), (array([ -8.52227157, -12.98453782]), array([ -8.52227157, -21.27091712])), (array([ -8.52227157, -21.27091712]), array([ -6.83287719, -21.27091712])), (array([ -6.83287719, -21.27091712]), array([ -6.83287719, -12.98453782])), (array([ -6.83287719, -12.98453782]), array([ -7.13289722, -12.98453782]))], [(array([-11.45914355, -12.98453782]), array([-11.64047866, -12.98453782]))], [(array([-11.45914355, -12.98453782]), array([-11.64047866, -12.98453782])), (array([-11.64047866, -12.98453782]), array([-11.64047866, -21.27091712])), (array([-11.64047866, -21.27091712]), array([ -8.52227157, -21.27091712])), (array([ -8.52227157, -21.27091712]), array([ -8.52227157, -12.98453782])), (array([ -8.52227157, -12.98453782]), array([-10.55914355, -12.98453782]))], [(array([-10.37889719,  15.81694178]), array([-10.37889719,  16.44231701]))], [(array([-10.37889719,  15.81694178]), array([-10.37889719,  16.44231701])), (array([-10.37889719,  16.44231701]), array([-17.5       ,  16.44231701])), (array([-17.5       ,  16.44231701]), array([-17.5       ,  14.49420255])), (array([-17.5       ,  14.49420255]), array([-10.37889719,  14.49420255])), (array([-10.37889719,  14.49420255]), array([-10.37889719,  14.91694178]))], [(array([-10.37889719,  13.85262738]), array([-10.37889719,  14.49420255]))], [(array([-10.37889719,  13.85262738]), array([-10.37889719,  14.49420255])), (array([-10.37889719,  14.49420255]), array([-17.5       ,  14.49420255])), (array([-17.5       ,  14.49420255]), array([-17.5       ,  12.03431671])), (array([-17.5       ,  12.03431671]), array([-10.37889719,  12.03431671])), (array([-10.37889719,  12.03431671]), array([-10.37889719,  12.95262738]))], [(array([14.10779076, 16.04604885]), array([14.10779076, 17.39522885])), (array([ 8.40026982, 15.94561222]), array([ 8.40026982, 14.66777356]))], [(array([14.10779076, 16.04604885]), array([14.10779076, 17.39522885])), (array([14.10779076, 17.39522885]), array([ 8.40026982, 17.39522885])), (array([ 8.40026982, 17.39522885]), array([ 8.40026982, 16.84561222])), (array([ 8.40026982, 15.94561222]), array([ 8.40026982, 14.66777356])), (array([ 8.40026982, 14.66777356]), array([14.10779076, 14.66777356])), (array([14.10779076, 14.66777356]), array([14.10779076, 15.14604885]))], [(array([14.10779076, 11.5975884 ]), array([14.10779076, 14.66777356]))], [(array([14.10779076, 11.5975884 ]), array([14.10779076, 14.66777356])), (array([14.10779076, 14.66777356]), array([ 8.40026982, 14.66777356])), (array([ 8.40026982, 14.66777356]), array([ 8.40026982, 10.50842452])), (array([ 8.40026982, 10.50842452]), array([14.10779076, 10.50842452])), (array([14.10779076, 10.50842452]), array([14.10779076, 10.6975884 ]))], [(array([-5.3624661 , 13.57911659]), array([-5.3624661, 13.2622173]))], [(array([-5.3624661 , 13.57911659]), array([-5.3624661, 13.2622173])), (array([-5.3624661, 13.2622173]), array([ 1.20113701, 13.2622173 ])), (array([ 1.20113701, 13.2622173 ]), array([ 1.20113701, 15.55112216])), (array([ 1.20113701, 15.55112216]), array([-5.3624661 , 15.55112216])), (array([-5.3624661 , 15.55112216]), array([-5.3624661 , 14.47911659]))], [(array([ 1.20113701, 12.09219746]), array([ 1.20113701, 13.2622173 ])), (array([-5.3624661 , 11.74944257]), array([-5.3624661 ,  9.40001972]))], [(array([ 1.20113701, 12.09219746]), array([ 1.20113701, 13.2622173 ])), (array([ 1.20113701, 13.2622173 ]), array([-5.3624661, 13.2622173])), (array([-5.3624661, 13.2622173]), array([-5.3624661 , 12.64944257])), (array([-5.3624661 , 11.74944257]), array([-5.3624661 ,  9.40001972])), (array([-5.3624661 ,  9.40001972]), array([1.20113701, 9.40001972])), (array([1.20113701, 9.40001972]), array([ 1.20113701, 11.19219746]))], [(array([-12.62204291, -21.27091712]), array([-11.64047866, -21.27091712]))], [(array([-12.62204291, -21.27091712]), array([-11.64047866, -21.27091712])), (array([-11.64047866, -21.27091712]), array([-11.64047866, -12.98453782])), (array([-11.64047866, -12.98453782]), array([-15.00902147, -12.98453782])), (array([-15.00902147, -12.98453782]), array([-15.00902147, -21.27091712])), (array([-15.00902147, -21.27091712]), array([-13.52204291, -21.27091712]))], [(array([-17.02535496, -12.98453782]), array([-17.5       , -12.98453782])), (array([-16.01168459, -12.98453782]), array([-16.12535496, -12.98453782]))], [(array([-17.02535496, -12.98453782]), array([-17.5       , -12.98453782])), (array([-17.5       , -12.98453782]), array([-17.5       , -21.27091712])), (array([-17.5       , -21.27091712]), array([-15.00902147, -21.27091712])), (array([-15.00902147, -21.27091712]), array([-15.00902147, -12.98453782])), (array([-15.00902147, -12.98453782]), array([-15.11168459, -12.98453782])), (array([-16.01168459, -12.98453782]), array([-16.12535496, -12.98453782]))]]\n"
     ]
    }
   ],
   "source": [
    "test = []\n",
    "for room in rooms:\n",
    "    for polygon in room.get_polygons():\n",
    "        test.append([(point[0],point[1]) for point in polygon])\n",
    "print(test)"
   ]
  },
  {
   "cell_type": "code",
   "execution_count": 9,
   "id": "residential-percentage",
   "metadata": {},
   "outputs": [
    {
     "data": {
      "image/png": "[encoded data removed]",
      "text/plain": [
       "<Figure size 1080x1080 with 1 Axes>"
      ]
     },
     "metadata": {
      "needs_background": "light"
     },
     "output_type": "display_data"
    }
   ],
   "source": [
    "plot_rooms = [main_room]+rooms\n",
    "fig, ax = plt.subplots(figsize=[15,15])\n",
    "for r in plot_rooms:\n",
    "    if r.door:\n",
    "        poly, rect = r.get_polygons()\n",
    "        for p in poly:\n",
    "            polygon = Polygon(np.array(p), fill=False)\n",
    "            #ax.add_patch(polygon)\n",
    "            #ax.plot(r.door[0][0][:,0], r.door[0][0][:,1], '.')\n",
    "        for p in rect:\n",
    "            print(p)\n",
    "            polygon = Polygon(np.array(p), fill=False)\n",
    "            ax.add_patch(polygon)\n",
    "            #ax.plot(r.door[0][0][:,0], r.door[0][0][:,1], '.')\n",
    "    else:\n",
    "        polygon = Polygon(r.get_vert(), fill=False)\n",
    "        ax.add_patch(polygon)\n",
    "    \n",
    "plt.xlim([-(room_w+1)/2,(room_w+1)/2])\n",
    "plt.ylim([-(room_h+1)/2,(room_h+1)/2])\n",
    "ax.set_aspect('equal', 'box')\n",
    "plt.show()"
   ]
  },
  {
   "cell_type": "code",
   "execution_count": 105,
   "id": "dominican-ability",
   "metadata": {},
   "outputs": [],
   "source": [
    "test_room = Room(6,4,[1,1])"
   ]
  },
  {
   "cell_type": "code",
   "execution_count": 106,
   "id": "continued-vanilla",
   "metadata": {},
   "outputs": [],
   "source": [
    "test_room.set_corridor_sides([1,2])\n",
    "test_room.add_door()\n",
    "test_room.add_door()\n",
    "test_room.add_door()"
   ]
  },
  {
   "cell_type": "code",
   "execution_count": 107,
   "id": "jewish-adjustment",
   "metadata": {},
   "outputs": [
    {
     "data": {
      "image/png": "[encoded data removed]",
      "text/plain": [
       "<Figure size 720x720 with 1 Axes>"
      ]
     },
     "metadata": {
      "needs_background": "light"
     },
     "output_type": "display_data"
    }
   ],
   "source": [
    "fig, ax = plt.subplots(figsize=[10,10])\n",
    "poly, rect = test_room.get_polygons()\n",
    "#for p in poly:\n",
    "    #polygon = Polygon(p, fill=False)\n",
    "    #ax.add_patch(polygon)\n",
    "for r in rect:\n",
    "    polygon = Polygon(r, fill=False)\n",
    "    ax.add_patch(polygon)\n",
    "    \n",
    "plt.xlim([-10,10])\n",
    "plt.ylim([-13,13])\n",
    "ax.set_aspect('equal', 'box')\n",
    "plt.show()"
   ]
  },
  {
   "cell_type": "code",
   "execution_count": 109,
   "id": "homeless-phone",
   "metadata": {},
   "outputs": [
    {
     "name": "stdout",
     "output_type": "stream",
     "text": [
      "5 10 10\n"
     ]
    }
   ],
   "source": [
    "env = NavRepTrainEnv(silent=True, scenario='test', adaptive=False)\n",
    "#env.soadrl_sim.human_num = 5\n",
    "#env.soadrl_sim.num_walls = 5\n",
    "#env.soadrl_sim.num_circles = 5\n",
    "env.reset()\n",
    "verts = env.soadrl_sim.obstacle_vertices\n",
    "env.soadrl_sim.robot.py = 1\n",
    "\n",
    "print(env.soadrl_sim.human_num,env.soadrl_sim.num_walls,env.soadrl_sim.num_circles)\n"
   ]
  },
  {
   "cell_type": "code",
   "execution_count": 105,
   "id": "stupid-fellow",
   "metadata": {},
   "outputs": [
    {
     "data": {
      "text/plain": [
       "[(-1.1098221099286927, -1.5098221099286928),\n",
       " (-2.6901778900713076, -1.5098221099286928),\n",
       " (-2.6901778900713076, -3.090177890071308),\n",
       " (-1.1098221099286927, -3.090177890071308)]"
      ]
     },
     "execution_count": 105,
     "metadata": {},
     "output_type": "execute_result"
    }
   ],
   "source": [
    "verts[0]"
   ]
  },
  {
   "cell_type": "code",
   "execution_count": 106,
   "id": "stock-spine",
   "metadata": {},
   "outputs": [
    {
     "data": {
      "image/png": "[encoded data removed]",
      "text/plain": [
       "<Figure size 1080x1080 with 1 Axes>"
      ]
     },
     "metadata": {
      "needs_background": "light"
     },
     "output_type": "display_data"
    }
   ],
   "source": [
    "fig, ax = plt.subplots(figsize=[15,15])\n",
    "for r in verts:\n",
    "    polygon = Polygon(np.array(r), fill=False)\n",
    "    ax.add_patch(polygon)\n",
    "\n",
    "plt.xlim([-10,7])\n",
    "plt.ylim([-11,11])\n",
    "ax.set_aspect('equal', 'box')\n",
    "plt.show()"
   ]
  },
  {
   "cell_type": "code",
   "execution_count": 10,
   "id": "prepared-seattle",
   "metadata": {},
   "outputs": [
    {
     "name": "stdout",
     "output_type": "stream",
     "text": [
      "Loading map definition from /home/mads/miniconda3/envs/NavRepEnv/lib/python3.6/site-packages/asl_pepper_2d_sim_maps/maps/asl_office_j.yaml\n",
      "Map definition found. Loading map from /home/mads/miniconda3/envs/NavRepEnv/lib/python3.6/site-packages/asl_pepper_2d_sim_maps/maps/asl_office_j.pgm\n",
      "Agentstate loaded from /home/mads/miniconda3/envs/NavRepEnv/lib/python3.6/site-packages/pyIA/scenarios/irosasl_office_j3.pickle\n",
      "Loading map definition from /home/mads/miniconda3/envs/NavRepEnv/lib/python3.6/site-packages/asl_pepper_2d_sim_maps/maps/asl_office_j.yaml\n",
      "Map definition found. Loading map from /home/mads/miniconda3/envs/NavRepEnv/lib/python3.6/site-packages/asl_pepper_2d_sim_maps/maps/asl_office_j.pgm\n",
      "Creating Raytracer\n",
      "Creating PyOmap\n",
      "Creating PyRayMarching\n",
      "Creating virtual Peppers\n",
      "calculating TSDF\n",
      "TSDF calculation: 3.3723918889882043s\n",
      "0.1599999964237213\n",
      "[[0 0 0 ... 0 0 0]\n",
      " [0 0 0 ... 0 0 0]\n",
      " [0 0 0 ... 0 0 0]\n",
      " ...\n",
      " [0 0 0 ... 0 0 0]\n",
      " [0 0 0 ... 0 0 0]\n",
      " [0 0 0 ... 0 0 0]]\n"
     ]
    },
    {
     "data": {
      "image/png": "[encoded data removed]",
      "text/plain": [
       "<Figure size 1080x1080 with 1 Axes>"
      ]
     },
     "metadata": {
      "needs_background": "light"
     },
     "output_type": "display_data"
    }
   ],
   "source": [
    "envIAN = IANEnv()\n",
    "envIAN.reset()\n",
    "map2d = envIAN.iarlenv.rlenv.coarse_map2d\n",
    "a = map2d.occupancy()\n",
    "print(map2d.resolution())\n",
    "print(a.astype(int))\n",
    "fig, ax = plt.subplots(figsize=[15,15])\n",
    "ax.imshow(a.astype(int),cmap='Greys',interpolation='none', extent=np.array([0,a.shape[1],0,a.shape[0]])*map2d.resolution())\n",
    "plt.show()"
   ]
  },
  {
   "cell_type": "code",
   "execution_count": 11,
   "id": "hindu-times",
   "metadata": {},
   "outputs": [
    {
     "data": {
      "text/plain": [
       "['__class__',\n",
       " '__delattr__',\n",
       " '__dir__',\n",
       " '__doc__',\n",
       " '__eq__',\n",
       " '__format__',\n",
       " '__ge__',\n",
       " '__getattribute__',\n",
       " '__gt__',\n",
       " '__hash__',\n",
       " '__init__',\n",
       " '__init_subclass__',\n",
       " '__le__',\n",
       " '__lt__',\n",
       " '__ne__',\n",
       " '__new__',\n",
       " '__pyx_vtable__',\n",
       " '__reduce__',\n",
       " '__reduce_ex__',\n",
       " '__repr__',\n",
       " '__setattr__',\n",
       " '__setstate__',\n",
       " '__sizeof__',\n",
       " '__str__',\n",
       " '__subclasshook__',\n",
       " '_occupancy',\n",
       " 'as_closed_obst_vertices',\n",
       " 'as_closed_obst_vertices_ij',\n",
       " 'as_coarse_map2d',\n",
       " 'as_occupied_points_ij',\n",
       " 'as_sdf',\n",
       " 'as_sdf_ij',\n",
       " 'as_tsdf',\n",
       " 'cdirection_in_field',\n",
       " 'cset_occupancy',\n",
       " 'cset_resolution',\n",
       " 'dijkstra',\n",
       " 'direction_in_field',\n",
       " 'distance_transform_2d',\n",
       " 'distance_transform_2d_ij',\n",
       " 'empty_like',\n",
       " 'fastmarch',\n",
       " 'from_msg',\n",
       " 'from_scan',\n",
       " 'ij_to_xy',\n",
       " 'is_inside_ij',\n",
       " 'numpy_to_occupancy_grid_msg',\n",
       " 'occupancy',\n",
       " 'occupancy_T',\n",
       " 'old_is_inside_ij',\n",
       " 'old_render_agents_in_lidar',\n",
       " 'old_xy_to_ij',\n",
       " 'origin',\n",
       " 'plot_contours',\n",
       " 'render_agents_in_lidar',\n",
       " 'render_agents_in_many_lidars',\n",
       " 'resolution',\n",
       " 'serialize',\n",
       " 'set_resolution',\n",
       " 'thresh_occupied',\n",
       " 'unserialize',\n",
       " 'visibility_map',\n",
       " 'visibility_map_ij',\n",
       " 'xy_to_floatij',\n",
       " 'xy_to_ij']"
      ]
     },
     "execution_count": 11,
     "metadata": {},
     "output_type": "execute_result"
    }
   ],
   "source": [
    "dir(map2d)"
   ]
  },
  {
   "cell_type": "code",
   "execution_count": 104,
   "id": "minus-ethiopia",
   "metadata": {},
   "outputs": [],
   "source": [
    "rng = np.random.default_rng(12345)\n",
    "\n",
    "class Room(object):\n",
    "    def __init__(self, h, w, c):\n",
    "        self.update_hwc(h,w,c)\n",
    "        self.corridor_sides = []\n",
    "        self.door = []\n",
    "        self.door_w = 0.9\n",
    "        self.wall_thickness = 0.1\n",
    "    def update_hwc(self, h, w, c):\n",
    "        self.dim = np.array([w,h])\n",
    "        self.c = c\n",
    "        \n",
    "    @classmethod\n",
    "    def from_vert(cls, vert):\n",
    "        min_x, max_x = np.min(vert[:,0]),np.max(vert[:,0])\n",
    "        min_y, max_y = np.min(vert[:,1]),np.max(vert[:,1])\n",
    "        h = max_y - min_y\n",
    "        w = max_x - min_x\n",
    "        c = np.array([max_x+min_x,max_y+min_y])/2\n",
    "        return cls(h,w,c)\n",
    "    \n",
    "    def get_vert(self):\n",
    "        return self.c + np.array([[self.dim[0], self.dim[1]],[-self.dim[0],self.dim[1]],[-self.dim[0],-self.dim[1]],[self.dim[0],-self.dim[1]]])/2\n",
    "    \n",
    "    def get_area(self):\n",
    "        return self.dim[0]*self.dim[1]\n",
    "    \n",
    "    def add_door(self, side=None):\n",
    "        if side == None:\n",
    "            s = rng.choice(self.corridor_sides)\n",
    "        else:\n",
    "            s = side\n",
    "        if s == 0 or s == 2:\n",
    "            axis = 1\n",
    "        elif s == 1 or s == 3:\n",
    "            axis = 0\n",
    "        \n",
    "        if s == 0 or s == 3:\n",
    "            fact = 1\n",
    "        elif s == 1 or s == 2:\n",
    "            fact = -1\n",
    "        door_point = np.zeros([2,2])\n",
    "        door_point[:,axis] = self.c[axis] + fact*self.dim[axis]/2\n",
    "        p = rng.beta(1,1)*(self.dim[1-axis]-self.door_w-self.wall_thickness*2) - (self.dim[1-axis]-self.door_w-self.wall_thickness*2)/2\n",
    "        door_point[:,1-axis] = (self.c[1-axis] + p) + np.array([-self.door_w,self.door_w])/2\n",
    "        door_point = door_point if s < 2  else np.flip(door_point,0) # ensure that order is correct relative to positive direction\n",
    "        \n",
    "        other_doors = [d for d in self.door if d[1]==s]\n",
    "        \n",
    "        collision = False\n",
    "        for door in other_doors:\n",
    "            #check if current door clashes with existing door NOT WORKING\n",
    "            if any(door_point[:,1-axis] > np.min(door[0][:,1-axis])) and any(door_point[:,1-axis] < np.max(door[0][:,1-axis])):\n",
    "                collision = True\n",
    "                print(\"collision\")\n",
    "        \n",
    "        if not collision:\n",
    "            self.door.append((door_point,s))\n",
    "        \n",
    "        #      0\n",
    "        #   -------\n",
    "        #   |     |\n",
    "        # 1 |     | 3\n",
    "        #   |     |\n",
    "        #   -------\n",
    "        #      2\n",
    "        \n",
    "    def get_polygons(self):\n",
    "        if len(self.door) < 1:\n",
    "            return [self.get_vert()]\n",
    "        else:\n",
    "            polygon_list = []\n",
    "            rectangle_list = []\n",
    "            door_add = np.array([[0,-1],[1,0],[0,1],[-1,0]])*self.wall_thickness\n",
    "            vert_add = np.array([[-1,-1],[1,-1],[1,1],[-1,1]])*self.wall_thickness\n",
    "            verts = self.get_vert()\n",
    "            verts_prime = verts+vert_add\n",
    "\n",
    "            doors = self.door\n",
    "            \n",
    "            # sorting\n",
    "            door_avg = np.array([np.mean(d[0], axis=0) for d in doors])-self.c\n",
    "            first_vert_ang = np.arctan2(verts[0][1]-self.c[1], verts[0][0]-self.c[0])\n",
    "            #print(\"first_vert_ang: \", first_vert_ang)\n",
    "            sorted_door_idx = np.argsort(np.mod(np.arctan2(door_avg[:,1],door_avg[:,0])-first_vert_ang+np.pi*2,np.pi*2))\n",
    "            #print(\"sorted index: \", sorted_door_idx)\n",
    "\n",
    "            # create polygon 1\n",
    "            cur_door_idx = sorted_door_idx[0]\n",
    "            cur_door = doors[cur_door_idx]\n",
    "            last_door = doors[sorted_door_idx[-1]]\n",
    "            \n",
    "            vert_base = np.concatenate([verts[last_door[1]+1:],verts[:cur_door[1]+1]])\n",
    "            vert_base_prime = np.concatenate([verts_prime[last_door[1]+1:],verts_prime[:cur_door[1]+1]])\n",
    "            \n",
    "            vert_base = np.concatenate([last_door[0][0].reshape((1,-1)), vert_base, cur_door[0][1].reshape((1,-1))])\n",
    "            vert_base_prime = np.concatenate([(last_door[0][0]+ door_add[last_door[1]]).reshape((1,-1)),\n",
    "                                             vert_base_prime, (cur_door[0][1]+ door_add[cur_door[1]]).reshape((1,-1))])\n",
    "            for j in range(vert_base.shape[0]-1):\n",
    "                outer = vert_base[j:j+2].copy()\n",
    "                outer_prime = vert_base_prime[j:j+2].copy()\n",
    "                axis = np.argwhere(outer[0]==outer[1])\n",
    "                inner = outer.copy()\n",
    "                inner[:,axis] = outer_prime[:,axis]\n",
    "                inner = np.flip(inner, 0)\n",
    "                rectangle_list.append(np.concatenate([outer, inner]))\n",
    "\n",
    "            vert_base_prime = np.flip(vert_base_prime,0)\n",
    "            \n",
    "            polygon_list.append(np.concatenate([vert_base, vert_base_prime]).copy())\n",
    "\n",
    "            for i in range(len(sorted_door_idx)-1):\n",
    "                cur_door = doors[sorted_door_idx[i]]\n",
    "                next_door = doors[sorted_door_idx[i+1]]\n",
    "                vert_base = verts[cur_door[1]+1:next_door[1]+1]\n",
    "                vert_base_prime = verts_prime[cur_door[1]+1:next_door[1]+1]\n",
    "                \n",
    "                vert_base = np.concatenate([cur_door[0][0].reshape((1,-1)), vert_base, next_door[0][1].reshape((1,-1))])\n",
    "                vert_base_prime = np.concatenate([(cur_door[0][0]+ door_add[cur_door[1]]).reshape((1,-1)),\n",
    "                                             vert_base_prime, (next_door[0][1]+ door_add[next_door[1]]).reshape((1,-1))])\n",
    "                for j in range(vert_base.shape[0]-1):\n",
    "                    outer = vert_base[j:j+2].copy()\n",
    "                    outer_prime = vert_base_prime[j:j+2].copy()\n",
    "                    axis = np.argwhere(outer[0]==outer[1])\n",
    "                    inner = outer.copy()\n",
    "                    inner[:,axis] = outer_prime[:,axis]\n",
    "                    inner = np.flip(inner, 0)\n",
    "                    rectangle_list.append(np.concatenate([outer, inner]))\n",
    "                \n",
    "                vert_base_prime = np.flip(vert_base_prime,0)\n",
    "                \n",
    "                polygon_list.append(np.concatenate([vert_base, vert_base_prime]).copy())\n",
    "            \n",
    "        return polygon_list, rectangle_list\n",
    "    \n",
    "    def set_corridor_sides(self, l):\n",
    "        l = set(l)\n",
    "        self.corridor_sides = list(l)\n",
    "        \n",
    "    def get_corridor_sides(self):\n",
    "        return self.corridor_sides\n",
    "\n",
    "    def split_room(self, axis, corridor_w):\n",
    "        min_, max_ = np.min(self.get_vert()[:,axis]),np.max(self.get_vert()[:,axis])\n",
    "        split = rng.random()*(max_-min_)+min_\n",
    "        split = rng.beta(1,1)*(max_-min_-corridor_w)+min_+corridor_w/2\n",
    "        room1 = self.get_vert().copy()\n",
    "        result = []\n",
    "        room1[room1[:,axis]==min_,axis] = split+corridor_w/2\n",
    "        room1 = Room.from_vert(room1)\n",
    "        if axis == 0:\n",
    "            side1 = 1\n",
    "            side2 = 3\n",
    "        else:\n",
    "            side1 = 2\n",
    "            side2 = 0\n",
    "        if corridor_w < 0.1:\n",
    "            corridor_sides1 = self.get_corridor_sides()\n",
    "            if side1 in corridor_sides1:\n",
    "                corridor_sides1.remove(side1)\n",
    "            corridor_sides2 = self.get_corridor_sides()\n",
    "            if side2 in corridor_sides2:\n",
    "                corridor_sides2.remove(side2)\n",
    "        else:\n",
    "            corridor_sides1 = self.get_corridor_sides() + [side1]\n",
    "            corridor_sides2 = self.get_corridor_sides() + [side2]\n",
    "        \n",
    "        room1.set_corridor_sides(corridor_sides1)\n",
    "        room1.add_door()\n",
    "        if rng.choice([True,False]):\n",
    "            room1.add_door()\n",
    "        \n",
    "        room2 = self.get_vert().copy()\n",
    "        room2[room2[:,axis]==max_,axis] = split-corridor_w/2\n",
    "        room2 = Room.from_vert(room2)\n",
    "        room2.set_corridor_sides(corridor_sides2)\n",
    "        room2.add_door()\n",
    "        if rng.choice([True,False]):\n",
    "            room2.add_door()\n",
    "        return [room1, room2]"
   ]
  },
  {
   "cell_type": "code",
   "execution_count": null,
   "id": "formal-archive",
   "metadata": {},
   "outputs": [],
   "source": []
  }
 ],
 "metadata": {
  "kernelspec": {
   "display_name": "Python 3",
   "language": "python",
   "name": "python3"
  },
  "language_info": {
   "codemirror_mode": {
    "name": "ipython",
    "version": 3
   },
   "file_extension": ".py",
   "mimetype": "text/x-python",
   "name": "python",
   "nbconvert_exporter": "python",
   "pygments_lexer": "ipython3",
   "version": "3.6.13"
  }
 },
 "nbformat": 4,
 "nbformat_minor": 5
}
