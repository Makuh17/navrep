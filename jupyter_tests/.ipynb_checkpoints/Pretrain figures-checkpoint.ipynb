{
 "cells": [
  {
   "cell_type": "code",
   "execution_count": 1,
   "id": "excellent-carry",
   "metadata": {},
   "outputs": [
    {
     "name": "stderr",
     "output_type": "stream",
     "text": [
      "/home/mads/miniconda3/envs/NavRepEnv/lib/python3.6/site-packages/tensorflow/python/framework/dtypes.py:526: FutureWarning: Passing (type, 1) or '1type' as a synonym of type is deprecated; in a future version of numpy, it will be understood as (type, (1,)) / '(1,)type'.\n",
      "  _np_qint8 = np.dtype([(\"qint8\", np.int8, 1)])\n",
      "/home/mads/miniconda3/envs/NavRepEnv/lib/python3.6/site-packages/tensorflow/python/framework/dtypes.py:527: FutureWarning: Passing (type, 1) or '1type' as a synonym of type is deprecated; in a future version of numpy, it will be understood as (type, (1,)) / '(1,)type'.\n",
      "  _np_quint8 = np.dtype([(\"quint8\", np.uint8, 1)])\n",
      "/home/mads/miniconda3/envs/NavRepEnv/lib/python3.6/site-packages/tensorflow/python/framework/dtypes.py:528: FutureWarning: Passing (type, 1) or '1type' as a synonym of type is deprecated; in a future version of numpy, it will be understood as (type, (1,)) / '(1,)type'.\n",
      "  _np_qint16 = np.dtype([(\"qint16\", np.int16, 1)])\n",
      "/home/mads/miniconda3/envs/NavRepEnv/lib/python3.6/site-packages/tensorflow/python/framework/dtypes.py:529: FutureWarning: Passing (type, 1) or '1type' as a synonym of type is deprecated; in a future version of numpy, it will be understood as (type, (1,)) / '(1,)type'.\n",
      "  _np_quint16 = np.dtype([(\"quint16\", np.uint16, 1)])\n",
      "/home/mads/miniconda3/envs/NavRepEnv/lib/python3.6/site-packages/tensorflow/python/framework/dtypes.py:530: FutureWarning: Passing (type, 1) or '1type' as a synonym of type is deprecated; in a future version of numpy, it will be understood as (type, (1,)) / '(1,)type'.\n",
      "  _np_qint32 = np.dtype([(\"qint32\", np.int32, 1)])\n",
      "/home/mads/miniconda3/envs/NavRepEnv/lib/python3.6/site-packages/tensorflow/python/framework/dtypes.py:535: FutureWarning: Passing (type, 1) or '1type' as a synonym of type is deprecated; in a future version of numpy, it will be understood as (type, (1,)) / '(1,)type'.\n",
      "  np_resource = np.dtype([(\"resource\", np.ubyte, 1)])\n",
      "Using TensorFlow backend.\n"
     ]
    },
    {
     "name": "stdout",
     "output_type": "stream",
     "text": [
      "Ros was not found, disabled.\n"
     ]
    }
   ],
   "source": [
    "from datetime import datetime\n",
    "import os\n",
    "\n",
    "from stable_baselines import PPO2\n",
    "from stable_baselines.gail import ExpertDataset\n",
    "\n",
    "from navrep.tools.custom_policy import CustomPolicy, ARCH, _C\n",
    "from navrep.envs.e2eenv import E2ENavRepEnvPretrain\n",
    "from navrep.tools.expert_policy import FastmarchORCAPolicy, alt_generate_expert_traj"
   ]
  },
  {
   "cell_type": "code",
   "execution_count": null,
   "id": "fabulous-scale",
   "metadata": {},
   "outputs": [],
   "source": [
    "class E2ENavRepEnvPretrainNoRot(E2ENavRepEnvPretrain):\n",
    "    def __init__(self, *args, **kwargs):\n",
    "        super(E2ENavRepEnvPretrainNoRot, self).__init__(*args, **kwargs)\n",
    "    def reset(self):\n",
    "        self.encoder.reset()\n",
    "        \n",
    "        self.steps_since_reset = 0\n",
    "        self.episode_reward = 0\n",
    "        _, _ = self.soadrl_sim.reset(self.scenario, compute_local_map=False)\n",
    "        random_rot = ActionXYRot(0, 0, 0.*(np.random.random()-0.5))\n",
    "        self.soadrl_sim.step(random_rot, compute_local_map=False, border=self.border)\n",
    "        if not self.LEGACY_MODE:\n",
    "            self._add_border_obstacle()\n",
    "        contours = self.soadrl_sim.obstacle_vertices\n",
    "        self.flat_contours = flatten_contours(contours)\n",
    "        self.distances_travelled_in_base_frame = np.zeros((len(self.soadrl_sim.humans), 3))\n",
    "        obs = self._convert_obs()\n",
    "        if self.LEGACY_MODE:\n",
    "            state, local_map, reward, done, info = self.soadrl_sim.step(\n",
    "                ActionXYRot(0, 0, 0), compute_local_map=True, border=self.border)\n",
    "            obs = (state, local_map)\n",
    "        \n",
    "        h = self.encoder._encode_obs(obs, np.array([0,0,0]))\n",
    "        N = h.shape[0]\n",
    "        h = h.reshape((N,))\n",
    "        return h"
   ]
  }
 ],
 "metadata": {
  "kernelspec": {
   "display_name": "Python 3",
   "language": "python",
   "name": "python3"
  },
  "language_info": {
   "codemirror_mode": {
    "name": "ipython",
    "version": 3
   },
   "file_extension": ".py",
   "mimetype": "text/x-python",
   "name": "python",
   "nbconvert_exporter": "python",
   "pygments_lexer": "ipython3",
   "version": "3.6.13"
  }
 },
 "nbformat": 4,
 "nbformat_minor": 5
}
